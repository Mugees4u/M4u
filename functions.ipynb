{
  "nbformat": 4,
  "nbformat_minor": 0,
  "metadata": {
    "colab": {
      "name": "functions.ipynb",
      "provenance": [],
      "collapsed_sections": [],
      "authorship_tag": "ABX9TyN7laO/iGmqL/R9hiQ94eUT",
      "include_colab_link": true
    },
    "kernelspec": {
      "name": "python3",
      "display_name": "Python 3"
    }
  },
  "cells": [
    {
      "cell_type": "markdown",
      "metadata": {
        "id": "view-in-github",
        "colab_type": "text"
      },
      "source": [
        "<a href=\"https://colab.research.google.com/github/Mugees4u/M4u/blob/master/functions.ipynb\" target=\"_parent\"><img src=\"https://colab.research.google.com/assets/colab-badge.svg\" alt=\"Open In Colab\"/></a>"
      ]
    },
    {
      "cell_type": "code",
      "metadata": {
        "id": "rz4X8xaGGA6s",
        "colab_type": "code",
        "colab": {}
      },
      "source": [
        "# A function is bloack of code to organize code and used for reusiblilty.\n",
        "\n",
        "# function startd with 'def' keyword followed funcation name with it's parenthesis.\n",
        "\n",
        "# Any i/p or arguments s/b placed within these paranthesis.\n",
        "\n",
        "def printme(str):\n",
        "  \"This print passed string into function\"\n",
        "  print(str)\n",
        "  return str"
      ],
      "execution_count": 0,
      "outputs": []
    },
    {
      "cell_type": "code",
      "metadata": {
        "id": "mRAfyrh2HK8R",
        "colab_type": "code",
        "colab": {
          "base_uri": "https://localhost:8080/",
          "height": 34
        },
        "outputId": "258d0061-513b-4038-bfc0-d83b94a30321"
      },
      "source": [
        "def string_length(str1):\n",
        "  count = 0\n",
        "  for char in str1:\n",
        "    count = count + 1\n",
        "  return count\n",
        "print(string_length(\"python programming\"))"
      ],
      "execution_count": 10,
      "outputs": [
        {
          "output_type": "stream",
          "text": [
            "18\n"
          ],
          "name": "stdout"
        }
      ]
    },
    {
      "cell_type": "code",
      "metadata": {
        "id": "AzS-1DPtICbv",
        "colab_type": "code",
        "colab": {
          "base_uri": "https://localhost:8080/",
          "height": 34
        },
        "outputId": "3e43aee7-5620-420e-aef5-60223691f4bf"
      },
      "source": [
        "def string_both_ends(str1):\n",
        "  if len(str1) < 2:\n",
        "    return 'contain less than two'\n",
        "  return str1[:2] + str1[-2:]\n",
        "print(string_both_ends(\"Python Programming\")) "
      ],
      "execution_count": 23,
      "outputs": [
        {
          "output_type": "stream",
          "text": [
            "Pyng\n"
          ],
          "name": "stdout"
        }
      ]
    },
    {
      "cell_type": "code",
      "metadata": {
        "id": "hfmUo7h5J7r_",
        "colab_type": "code",
        "colab": {
          "base_uri": "https://localhost:8080/",
          "height": 52
        },
        "outputId": "6b8a14b6-10ad-485a-c454-7669df6443a6"
      },
      "source": [
        "# sum of two no\n",
        "def sum(x, y):\n",
        "  z = x + y\n",
        "  print(\"Sum of two no is: \", z)\n",
        "sum(10, 20)\n",
        "sum(40, 50)"
      ],
      "execution_count": 29,
      "outputs": [
        {
          "output_type": "stream",
          "text": [
            "Sum of two no is:  30\n",
            "Sum of two no is:  90\n"
          ],
          "name": "stdout"
        }
      ]
    },
    {
      "cell_type": "code",
      "metadata": {
        "id": "uN9izj3wNisD",
        "colab_type": "code",
        "colab": {
          "base_uri": "https://localhost:8080/",
          "height": 70
        },
        "outputId": "c8f32f10-c05d-4c2c-c964-2d0552771307"
      },
      "source": [
        "# function with it's return\n",
        "def sum(x, y):\n",
        "  print(x+y)\n",
        "  return x+y\n",
        "def msg():\n",
        "  print(\"Hello\")\n",
        "  return\n",
        "z = sum(10, 50)\n",
        "print(z)\n",
        "msg()"
      ],
      "execution_count": 30,
      "outputs": [
        {
          "output_type": "stream",
          "text": [
            "60\n",
            "60\n",
            "Hello\n"
          ],
          "name": "stdout"
        }
      ]
    },
    {
      "cell_type": "code",
      "metadata": {
        "id": "OD_-3ja1P3dt",
        "colab_type": "code",
        "colab": {
          "base_uri": "https://localhost:8080/",
          "height": 34
        },
        "outputId": "cb528d52-8df6-421e-ba88-21d0d67d0bf9"
      },
      "source": [
        "# function Arguments\n",
        "def add(x, y):\n",
        "  x+y\n",
        "  return x+y\n",
        "x = 15\n",
        "add(x, 36)\n"
      ],
      "execution_count": 39,
      "outputs": [
        {
          "output_type": "execute_result",
          "data": {
            "text/plain": [
              "51"
            ]
          },
          "metadata": {
            "tags": []
          },
          "execution_count": 39
        }
      ]
    },
    {
      "cell_type": "code",
      "metadata": {
        "id": "69bjbohnQrtU",
        "colab_type": "code",
        "colab": {
          "base_uri": "https://localhost:8080/",
          "height": 34
        },
        "outputId": "da8d9c06-6d63-4c1f-f45c-a1c1c0058551"
      },
      "source": [
        "y = 20\n",
        "add(x, y)"
      ],
      "execution_count": 40,
      "outputs": [
        {
          "output_type": "execute_result",
          "data": {
            "text/plain": [
              "35"
            ]
          },
          "metadata": {
            "tags": []
          },
          "execution_count": 40
        }
      ]
    },
    {
      "cell_type": "code",
      "metadata": {
        "id": "vJE4-KODQt8d",
        "colab_type": "code",
        "colab": {
          "base_uri": "https://localhost:8080/",
          "height": 202
        },
        "outputId": "7c906410-2650-4957-d7d1-1a693ac00f6f"
      },
      "source": [
        "# Positional Arguments\n",
        "def sum(x, y):\n",
        "  z = x + y\n",
        "  print(z)\n",
        "#sum(36, 47)\n",
        "sum(20)"
      ],
      "execution_count": 45,
      "outputs": [
        {
          "output_type": "error",
          "ename": "TypeError",
          "evalue": "ignored",
          "traceback": [
            "\u001b[0;31m---------------------------------------------------------------------------\u001b[0m",
            "\u001b[0;31mTypeError\u001b[0m                                 Traceback (most recent call last)",
            "\u001b[0;32m<ipython-input-45-6fa905df61a2>\u001b[0m in \u001b[0;36m<module>\u001b[0;34m()\u001b[0m\n\u001b[1;32m      3\u001b[0m   \u001b[0mprint\u001b[0m\u001b[0;34m(\u001b[0m\u001b[0mz\u001b[0m\u001b[0;34m)\u001b[0m\u001b[0;34m\u001b[0m\u001b[0;34m\u001b[0m\u001b[0m\n\u001b[1;32m      4\u001b[0m \u001b[0;31m#sum(36, 47)\u001b[0m\u001b[0;34m\u001b[0m\u001b[0;34m\u001b[0m\u001b[0;34m\u001b[0m\u001b[0m\n\u001b[0;32m----> 5\u001b[0;31m \u001b[0msum\u001b[0m\u001b[0;34m(\u001b[0m\u001b[0;36m20\u001b[0m\u001b[0;34m)\u001b[0m\u001b[0;34m\u001b[0m\u001b[0;34m\u001b[0m\u001b[0m\n\u001b[0m",
            "\u001b[0;31mTypeError\u001b[0m: sum() missing 1 required positional argument: 'y'"
          ]
        }
      ]
    },
    {
      "cell_type": "code",
      "metadata": {
        "id": "Q2xAkUlhRNGD",
        "colab_type": "code",
        "colab": {
          "base_uri": "https://localhost:8080/",
          "height": 175
        },
        "outputId": "5326c64c-7e58-4f8a-bf7d-5dfe85a8a3ac"
      },
      "source": [
        "# Default arguemnts: It is an argument that assumes a defualt value if a value is not provided in the function call for the argument.\n",
        "def info(id, Name = 'Mugees', Age = 21):\n",
        "  print(id)\n",
        "  print(Name)\n",
        "  print(Age)\n",
        "  return\n",
        "info(id = 500, Name = 'Mohit', Age = 35)\n",
        "info(id = 56, Age = 36)\n",
        "info(id = 101)\n"
      ],
      "execution_count": 50,
      "outputs": [
        {
          "output_type": "stream",
          "text": [
            "500\n",
            "Mohit\n",
            "35\n",
            "56\n",
            "Mugees\n",
            "36\n",
            "101\n",
            "Mugees\n",
            "21\n"
          ],
          "name": "stdout"
        }
      ]
    },
    {
      "cell_type": "code",
      "metadata": {
        "id": "8TtBPIIBTTTP",
        "colab_type": "code",
        "colab": {
          "base_uri": "https://localhost:8080/",
          "height": 122
        },
        "outputId": "dafd6135-541f-45d8-8e42-795682a582ef"
      },
      "source": [
        "# Keywords Arguments: when we use keyword arguments in a function call, the caller identifies the arguments by the parameter name\n",
        "def detail(id,  name, salary):\n",
        "  print(id)\n",
        "  print(name)\n",
        "  print(salary)\n",
        "  return\n",
        "detail(id = 561, name = 'Sachin', salary = 6542)\n",
        "detail(name='Mohit', salary=5687, id = 65)"
      ],
      "execution_count": 52,
      "outputs": [
        {
          "output_type": "stream",
          "text": [
            "561\n",
            "Sachin\n",
            "6542\n",
            "65\n",
            "Mohit\n",
            "5687\n"
          ],
          "name": "stdout"
        }
      ]
    },
    {
      "cell_type": "code",
      "metadata": {
        "id": "6wo1RiiDUVop",
        "colab_type": "code",
        "colab": {
          "base_uri": "https://localhost:8080/",
          "height": 34
        },
        "outputId": "da5c0711-ddbe-4ca0-91e2-8ca555800d38"
      },
      "source": [
        "# Local variables\n",
        "def local():\n",
        "  t = 25\n",
        "  print(t)\n",
        "  return\n",
        "local()\n",
        "#print(t)"
      ],
      "execution_count": 57,
      "outputs": [
        {
          "output_type": "stream",
          "text": [
            "25\n"
          ],
          "name": "stdout"
        }
      ]
    },
    {
      "cell_type": "code",
      "metadata": {
        "id": "nqC_R-RHU2Q2",
        "colab_type": "code",
        "colab": {
          "base_uri": "https://localhost:8080/",
          "height": 70
        },
        "outputId": "6d2e1984-2af5-486c-eace-5809d41e7387"
      },
      "source": [
        "# Global variables\n",
        "y = 54\n",
        "def glob():\n",
        "  t = 25\n",
        "  print(t)\n",
        "  print(y)\n",
        "  return\n",
        "glob()\n",
        "#print(t)\n",
        "print(y)"
      ],
      "execution_count": 68,
      "outputs": [
        {
          "output_type": "stream",
          "text": [
            "25\n",
            "54\n",
            "54\n"
          ],
          "name": "stdout"
        }
      ]
    },
    {
      "cell_type": "code",
      "metadata": {
        "id": "wtXWkR2rVdGH",
        "colab_type": "code",
        "colab": {
          "base_uri": "https://localhost:8080/",
          "height": 52
        },
        "outputId": "8912bd40-3b5d-4c05-e3ca-108457d1af41"
      },
      "source": [
        "# Call by Value\n",
        "def func(a):\n",
        "  a = a + 5\n",
        "  print(\"Inside the function value of a is :\", a)\n",
        "a = 10\n",
        "func(a)\n",
        "print('Óutside the function value of a is :', a)"
      ],
      "execution_count": 71,
      "outputs": [
        {
          "output_type": "stream",
          "text": [
            "Inside the function value of a is : 15\n",
            "Óutside the function value of a is : 10\n"
          ],
          "name": "stdout"
        }
      ]
    },
    {
      "cell_type": "code",
      "metadata": {
        "id": "cP7nos6vXQ9p",
        "colab_type": "code",
        "colab": {
          "base_uri": "https://localhost:8080/",
          "height": 70
        },
        "outputId": "8a3181a1-29f0-4e0d-c7b8-3a594109e7c3"
      },
      "source": [
        "# Call by reference\n",
        "def ref(list1):\n",
        "  list1.extend([23, 98])\n",
        "  print('List inside the function', list1)\n",
        "list1 = [12, 78, 89]\n",
        "print('list before the pass', list1)\n",
        "ref(list1)\n",
        "print('list outside the function', list1)"
      ],
      "execution_count": 72,
      "outputs": [
        {
          "output_type": "stream",
          "text": [
            "list before the pass [12, 78, 89]\n",
            "List inside the function [12, 78, 89, 23, 98]\n",
            "list outside the function [12, 78, 89, 23, 98]\n"
          ],
          "name": "stdout"
        }
      ]
    }
  ]
}