{
  "nbformat": 4,
  "nbformat_minor": 0,
  "metadata": {
    "colab": {
      "name": "lambda.ipynb",
      "provenance": [],
      "collapsed_sections": [],
      "authorship_tag": "ABX9TyNHXnAK372Frus8v4kQplcy"
    },
    "kernelspec": {
      "name": "python3",
      "display_name": "Python 3"
    }
  },
  "cells": [
    {
      "cell_type": "markdown",
      "metadata": {
        "id": "HKtUDmrBLdM9",
        "colab_type": "text"
      },
      "source": [
        "**Lambda function:**: In Python, A function that having without name.\n",
        "* function used the keyword lambda\n",
        "* lambda function take any nos of arguments, but can only have one expression\n",
        "\n",
        "\n",
        "**Syntax:**\n",
        "        *lambda arguments : expression*"
      ]
    },
    {
      "cell_type": "code",
      "metadata": {
        "id": "g2pEM-VCLe-c",
        "colab_type": "code",
        "outputId": "9a6934f1-cb6e-4e6b-e57a-129527e9db7c",
        "colab": {
          "base_uri": "https://localhost:8080/",
          "height": 34
        }
      },
      "source": [
        "x = lambda a : a + 10\n",
        "print(x(5))"
      ],
      "execution_count": 0,
      "outputs": [
        {
          "output_type": "stream",
          "text": [
            "15\n"
          ],
          "name": "stdout"
        }
      ]
    },
    {
      "cell_type": "code",
      "metadata": {
        "id": "QO8U24VWMf9W",
        "colab_type": "code",
        "outputId": "23ade6e1-ba02-4b1e-ab88-1d5c65b4ac82",
        "colab": {
          "base_uri": "https://localhost:8080/",
          "height": 34
        }
      },
      "source": [
        "x = lambda a, b : a * b\n",
        "print(x(7, 8))"
      ],
      "execution_count": 0,
      "outputs": [
        {
          "output_type": "stream",
          "text": [
            "56\n"
          ],
          "name": "stdout"
        }
      ]
    },
    {
      "cell_type": "code",
      "metadata": {
        "id": "jwzSB3O_MoYD",
        "colab_type": "code",
        "outputId": "507acd29-40be-4553-d3b0-59b18195feba",
        "colab": {
          "base_uri": "https://localhost:8080/",
          "height": 34
        }
      },
      "source": [
        "x = lambda a, b, c : a + b - c\n",
        "print(x(56, 67, 73))"
      ],
      "execution_count": 0,
      "outputs": [
        {
          "output_type": "stream",
          "text": [
            "50\n"
          ],
          "name": "stdout"
        }
      ]
    },
    {
      "cell_type": "code",
      "metadata": {
        "id": "-Bj2moxqM8zi",
        "colab_type": "code",
        "outputId": "f82ad171-70ac-4e69-b3fd-26e229485707",
        "colab": {
          "base_uri": "https://localhost:8080/",
          "height": 34
        }
      },
      "source": [
        "x = lambda k, l, m, n, o : (k + l - m * o)\n",
        "print(x(5, 7, 16, 2, 3))"
      ],
      "execution_count": 0,
      "outputs": [
        {
          "output_type": "stream",
          "text": [
            "-36\n"
          ],
          "name": "stdout"
        }
      ]
    },
    {
      "cell_type": "markdown",
      "metadata": {
        "id": "hHzXfGmeM9c1",
        "colab_type": "text"
      },
      "source": [
        "The impact of lambda function within a function is more strongly\n",
        "\n"
      ]
    },
    {
      "cell_type": "code",
      "metadata": {
        "id": "TpLaJosqNi_A",
        "colab_type": "code",
        "outputId": "ef7c4bb0-7798-4310-8772-9f3b72594bc6",
        "colab": {
          "base_uri": "https://localhost:8080/",
          "height": 52
        }
      },
      "source": [
        "def myfunc(x):\n",
        "  return lambda a : a * x\n",
        "\n",
        "y = myfunc(6)\n",
        "print(y(3))\n",
        "\n",
        "z = myfunc(13)\n",
        "print(z(12))"
      ],
      "execution_count": 0,
      "outputs": [
        {
          "output_type": "stream",
          "text": [
            "18\n",
            "156\n"
          ],
          "name": "stdout"
        }
      ]
    },
    {
      "cell_type": "markdown",
      "metadata": {
        "id": "BIu3RoydWFXf",
        "colab_type": "text"
      },
      "source": [
        "Lambda functions are also used along with built-in function like filter() and map() etc"
      ]
    },
    {
      "cell_type": "code",
      "metadata": {
        "id": "0_O-DgF1V6jG",
        "colab_type": "code",
        "colab": {
          "base_uri": "https://localhost:8080/",
          "height": 34
        },
        "outputId": "7c74b83d-1aca-4dcf-cf24-0068f6693985"
      },
      "source": [
        "#filter()\n",
        "# The function is called with all the item in the list and a new list is returned which contains items for the which function evaluates to true.\n",
        "\n",
        "my_list = [1, 4, 5, 6, 8, 11, 3, 12]\n",
        "# filter out even items from a list\n",
        "new_list= list(filter(lambda x:(x%2 == 0), my_list))\n",
        "new_list"
      ],
      "execution_count": 2,
      "outputs": [
        {
          "output_type": "execute_result",
          "data": {
            "text/plain": [
              "[4, 6, 8, 12]"
            ]
          },
          "metadata": {
            "tags": []
          },
          "execution_count": 2
        }
      ]
    },
    {
      "cell_type": "code",
      "metadata": {
        "id": "Vuo-VsMcWCvG",
        "colab_type": "code",
        "colab": {
          "base_uri": "https://localhost:8080/",
          "height": 34
        },
        "outputId": "0bf313d1-8249-4cd8-d34a-22936f69e5f2"
      },
      "source": [
        "my_list1 = [3, 6, 9, 5, 1, 2, 0]\n",
        "# filter out the odd from a list\n",
        "new_list1 = list(filter(lambda x: (x%2 == 1), my_list1))\n",
        "print(new_list1)"
      ],
      "execution_count": 4,
      "outputs": [
        {
          "output_type": "stream",
          "text": [
            "[3, 9, 5, 1]\n"
          ],
          "name": "stdout"
        }
      ]
    },
    {
      "cell_type": "code",
      "metadata": {
        "id": "E3UP2-FJbQvw",
        "colab_type": "code",
        "colab": {
          "base_uri": "https://localhost:8080/",
          "height": 34
        },
        "outputId": "29056aee-f75e-49d6-ce7d-d6807aa7cc89"
      },
      "source": [
        "# map()\n",
        "# The map() is called all the items in the list and a new list is returned which contains items returened by that functions for each item\n",
        "\n",
        "my_list = [15, 5, 4, 5, 6, 13, 30]\n",
        " # double each item in a list using map()\n",
        "\n",
        "new_list = list(map(lambda x: x * 2, my_list))\n",
        "print(new_list)"
      ],
      "execution_count": 9,
      "outputs": [
        {
          "output_type": "stream",
          "text": [
            "[30, 10, 8, 10, 12, 26, 60]\n"
          ],
          "name": "stdout"
        }
      ]
    },
    {
      "cell_type": "code",
      "metadata": {
        "id": "HJ8Qs_dsb8-6",
        "colab_type": "code",
        "colab": {}
      },
      "source": [
        ""
      ],
      "execution_count": 0,
      "outputs": []
    }
  ]
}