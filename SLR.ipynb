{
  "nbformat": 4,
  "nbformat_minor": 0,
  "metadata": {
    "colab": {
      "name": "SLR.ipynb",
      "provenance": [],
      "collapsed_sections": [],
      "authorship_tag": "ABX9TyNxGyg0WQ7WjNlU+5XgdHuF"
    },
    "kernelspec": {
      "name": "python3",
      "display_name": "Python 3"
    }
  },
  "cells": [
    {
      "cell_type": "code",
      "metadata": {
        "id": "zUf1MDbTQsi1",
        "colab_type": "code",
        "colab": {}
      },
      "source": [
        "import numpy as np\n",
        "import matplotlib.pyplot as plt"
      ],
      "execution_count": 0,
      "outputs": []
    },
    {
      "cell_type": "code",
      "metadata": {
        "id": "IS-df6eXXGxz",
        "colab_type": "code",
        "colab": {}
      },
      "source": [
        "#create some training samples\n",
        "X = np.array([1, 2, 3, 4, 5, 6])\n",
        "\n",
        "Y = np.array([3, 5, 7, 9, 11, 13])"
      ],
      "execution_count": 0,
      "outputs": []
    },
    {
      "cell_type": "code",
      "metadata": {
        "id": "QS0TK_8IXYWK",
        "colab_type": "code",
        "colab": {}
      },
      "source": [
        "#calculate values of a and b that give least error\n",
        "denominator = X.dot(X) - X.mean() * X.sum()\n",
        "a = (X.dot(Y) - Y.mean() * X.sum())/denominator\n",
        "\n",
        "b = (Y.mean() * X.dot(X) - X.mean() * X.dot(Y)) / denominator "
      ],
      "execution_count": 0,
      "outputs": []
    },
    {
      "cell_type": "code",
      "metadata": {
        "id": "rLyfdbehYIbV",
        "colab_type": "code",
        "colab": {
          "base_uri": "https://localhost:8080/",
          "height": 34
        },
        "outputId": "55a8b745-40a8-409a-c88f-4994828979bd"
      },
      "source": [
        "print(a)"
      ],
      "execution_count": 9,
      "outputs": [
        {
          "output_type": "stream",
          "text": [
            "2.0\n"
          ],
          "name": "stdout"
        }
      ]
    },
    {
      "cell_type": "code",
      "metadata": {
        "id": "GezebydKYN6z",
        "colab_type": "code",
        "colab": {
          "base_uri": "https://localhost:8080/",
          "height": 34
        },
        "outputId": "e61e49c3-3d7c-40a2-8758-8d5f37e62574"
      },
      "source": [
        "print(b)"
      ],
      "execution_count": 10,
      "outputs": [
        {
          "output_type": "stream",
          "text": [
            "1.0\n"
          ],
          "name": "stdout"
        }
      ]
    },
    {
      "cell_type": "code",
      "metadata": {
        "id": "PvfcNH2-YPyq",
        "colab_type": "code",
        "colab": {}
      },
      "source": [
        "#Calculate predictes values of Y from the line equatio with a and b\n",
        "\n",
        "Yhat = a * X + b"
      ],
      "execution_count": 0,
      "outputs": []
    },
    {
      "cell_type": "code",
      "metadata": {
        "id": "g7fvRMSHYqFe",
        "colab_type": "code",
        "colab": {
          "base_uri": "https://localhost:8080/",
          "height": 34
        },
        "outputId": "3b7314cf-c82d-4259-9810-97f69eb5b935"
      },
      "source": [
        "print(Yhat)"
      ],
      "execution_count": 12,
      "outputs": [
        {
          "output_type": "stream",
          "text": [
            "[ 3.  5.  7.  9. 11. 13.]\n"
          ],
          "name": "stdout"
        }
      ]
    },
    {
      "cell_type": "code",
      "metadata": {
        "id": "GmDn_bApYsRl",
        "colab_type": "code",
        "colab": {}
      },
      "source": [
        "#Calculate an score of the \n",
        "d1 = Y -Yhat\n",
        "d2 = Y - Y.mean()\n",
        "rsquared = 1 - d1.dot(d1) / d2.dot(d2)"
      ],
      "execution_count": 0,
      "outputs": []
    },
    {
      "cell_type": "code",
      "metadata": {
        "id": "lkleBa4zZE3a",
        "colab_type": "code",
        "colab": {
          "base_uri": "https://localhost:8080/",
          "height": 34
        },
        "outputId": "8e138877-3433-4ec1-e2ff-c4b9995751a3"
      },
      "source": [
        "print(rsquared)"
      ],
      "execution_count": 14,
      "outputs": [
        {
          "output_type": "stream",
          "text": [
            "1.0\n"
          ],
          "name": "stdout"
        }
      ]
    },
    {
      "cell_type": "code",
      "metadata": {
        "id": "PA0N1Vx1ZHNR",
        "colab_type": "code",
        "colab": {
          "base_uri": "https://localhost:8080/",
          "height": 295
        },
        "outputId": "d8869549-2a96-4f65-a309-2b3a7c5697c8"
      },
      "source": [
        "plt.scatter(X, Y)\n",
        "plt.plot(X, Yhat)\n",
        "plt.title(\"Single Linear Regression\")\n",
        "plt.xlabel(\"x\")\n",
        "plt.ylabel(\"y\")\n",
        "plt.show()"
      ],
      "execution_count": 15,
      "outputs": [
        {
          "output_type": "display_data",
          "data": {
            "image/png": "[encoded data removed]",
            "text/plain": [
              "<Figure size 432x288 with 1 Axes>"
            ]
          },
          "metadata": {
            "tags": []
          }
        }
      ]
    },
    {
      "cell_type": "code",
      "metadata": {
        "id": "wf2RMT0bZlpY",
        "colab_type": "code",
        "colab": {}
      },
      "source": [
        ""
      ],
      "execution_count": 0,
      "outputs": []
    }
  ]
}