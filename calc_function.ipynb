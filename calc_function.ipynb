{
  "nbformat": 4,
  "nbformat_minor": 0,
  "metadata": {
    "colab": {
      "name": "calc-function.ipynb",
      "provenance": [],
      "collapsed_sections": [],
      "authorship_tag": "ABX9TyNzFkamigl4JF+Bbexe3ig1"
    },
    "kernelspec": {
      "name": "python3",
      "display_name": "Python 3"
    }
  },
  "cells": [
    {
      "cell_type": "code",
      "metadata": {
        "id": "AVaVeEf6ZN0Z",
        "colab_type": "code",
        "colab": {
          "base_uri": "https://localhost:8080/",
          "height": 193
        },
        "outputId": "c8405bf4-337e-4df4-82c7-bd42624bf6f5"
      },
      "source": [
        "def add(x, y):\n",
        "  return x + y\n",
        "def subtract (x, y):\n",
        "  return x - y\n",
        "def multiply(x, y):\n",
        "  return x * y\n",
        "def divide(x, y):\n",
        "  return x / y\n",
        "\n",
        "print(\"Select operation\")\n",
        "print(\"------------------\")\n",
        "print(\"1. Addition\")\n",
        "print(\"2. Substraction\")\n",
        "print(\"3. Multiplication\")\n",
        "print(\"4. Divide\")\n",
        "\n",
        "choice = input(\"Enter choice(1/2/3/4):\")\n",
        "\n",
        "num1 = int(input(\"Enter first number: \"))\n",
        "num2 = int(input(\"Enter second number\"))\n",
        "\n",
        "if choice == '1':\n",
        "  print(add(num1, num2))\n",
        "elif choice == '2':\n",
        "  print(subtract(num1, num2))\n",
        "\n",
        "elif choice == '3':\n",
        "  print(multiply(num1, num2))\n",
        "\n",
        "elif choice == '4':\n",
        "  print(divide(num1, num2))\n",
        "\n",
        "else:\n",
        "  print(\"Invalid Input\")\n"
      ],
      "execution_count": 7,
      "outputs": [
        {
          "output_type": "stream",
          "text": [
            "Select operation\n",
            "------------------\n",
            "1. Addition\n",
            "2. Substraction\n",
            "3. Multiplication\n",
            "4. Divide\n",
            "Enter choice(1/2/3/4):4\n",
            "Enter first number: 6\n",
            "Enter second number3\n",
            "2.0\n"
          ],
          "name": "stdout"
        }
      ]
    }
  ]
}