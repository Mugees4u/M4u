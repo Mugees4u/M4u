{
  "nbformat": 4,
  "nbformat_minor": 0,
  "metadata": {
    "colab": {
      "name": "tuple.ipynb",
      "provenance": [],
      "collapsed_sections": [],
      "authorship_tag": "ABX9TyNwlMpWQep0Gbh8PK4pFINg",
      "include_colab_link": true
    },
    "kernelspec": {
      "name": "python3",
      "display_name": "Python 3"
    }
  },
  "cells": [
    {
      "cell_type": "markdown",
      "metadata": {
        "id": "view-in-github",
        "colab_type": "text"
      },
      "source": [
        "<a href=\"https://colab.research.google.com/github/Mugees4u/M4u/blob/master/tuple.ipynb\" target=\"_parent\"><img src=\"https://colab.research.google.com/assets/colab-badge.svg\" alt=\"Open In Colab\"/></a>"
      ]
    },
    {
      "cell_type": "code",
      "metadata": {
        "id": "6I4KCmYuIpZE",
        "colab_type": "code",
        "colab": {
          "base_uri": "https://localhost:8080/",
          "height": 34
        },
        "outputId": "b3896eae-5307-43aa-81a0-0ec953b7717a"
      },
      "source": [
        "# A tuple is a sequence of immutable of python objects\n",
        "# it is similar to list but it can't be change & puts in () while list is in []\n",
        "tpl1 = ('Sachin', 26, 'Mugees')\n",
        "tpl1"
      ],
      "execution_count": 6,
      "outputs": [
        {
          "output_type": "execute_result",
          "data": {
            "text/plain": [
              "('Sachin', 26, 'Mugees')"
            ]
          },
          "metadata": {
            "tags": []
          },
          "execution_count": 6
        }
      ]
    },
    {
      "cell_type": "code",
      "metadata": {
        "id": "TWP_Wu-gJWvs",
        "colab_type": "code",
        "colab": {
          "base_uri": "https://localhost:8080/",
          "height": 34
        },
        "outputId": "e97ad8fd-4bfc-4f38-99fc-9575bad6066a"
      },
      "source": [
        "tpl2 = (1, 98, 7, 6)\n",
        "tpl2"
      ],
      "execution_count": 2,
      "outputs": [
        {
          "output_type": "execute_result",
          "data": {
            "text/plain": [
              "(1, 98, 7, 6)"
            ]
          },
          "metadata": {
            "tags": []
          },
          "execution_count": 2
        }
      ]
    },
    {
      "cell_type": "code",
      "metadata": {
        "id": "Qnw96HqVJeEf",
        "colab_type": "code",
        "colab": {
          "base_uri": "https://localhost:8080/",
          "height": 34
        },
        "outputId": "a5f6b1f6-ec23-41de-e514-1d7b7175efe9"
      },
      "source": [
        "tpl3 = (\"a\", \"58\", \"d\")\n",
        "tpl3"
      ],
      "execution_count": 4,
      "outputs": [
        {
          "output_type": "execute_result",
          "data": {
            "text/plain": [
              "('a', '58', 'd')"
            ]
          },
          "metadata": {
            "tags": []
          },
          "execution_count": 4
        }
      ]
    },
    {
      "cell_type": "code",
      "metadata": {
        "id": "mzM7sEc8Jqlj",
        "colab_type": "code",
        "colab": {
          "base_uri": "https://localhost:8080/",
          "height": 34
        },
        "outputId": "a87a9a34-c406-4560-e6ef-5467f39eba30"
      },
      "source": [
        "# empty tuple\n",
        "x = ()\n",
        "x"
      ],
      "execution_count": 5,
      "outputs": [
        {
          "output_type": "execute_result",
          "data": {
            "text/plain": [
              "()"
            ]
          },
          "metadata": {
            "tags": []
          },
          "execution_count": 5
        }
      ]
    },
    {
      "cell_type": "code",
      "metadata": {
        "id": "QcuXpRH3KUz_",
        "colab_type": "code",
        "colab": {
          "base_uri": "https://localhost:8080/",
          "height": 34
        },
        "outputId": "1ef7fa82-cf62-4a06-e483-cb7574be0d87"
      },
      "source": [
        "# to write a tuple for containing only single value must be used comma (,) \n",
        "y = (50,)\n",
        "y"
      ],
      "execution_count": 8,
      "outputs": [
        {
          "output_type": "execute_result",
          "data": {
            "text/plain": [
              "(50,)"
            ]
          },
          "metadata": {
            "tags": []
          },
          "execution_count": 8
        }
      ]
    },
    {
      "cell_type": "code",
      "metadata": {
        "id": "lzphZluIKq5f",
        "colab_type": "code",
        "colab": {
          "base_uri": "https://localhost:8080/",
          "height": 52
        },
        "outputId": "d467af02-754e-4ad6-ebf9-62e1a39a6015"
      },
      "source": [
        "# Accessing values from tuples\n",
        "# use square brackets for slicing along with the index to obtain value available at that index\n",
        "x = ('Rohit', 'Pankaj', 'Harender', 'Mugees', 'Srikant')\n",
        "print(x[2])\n",
        "print(x[0])"
      ],
      "execution_count": 10,
      "outputs": [
        {
          "output_type": "stream",
          "text": [
            "Harender\n",
            "Rohit\n"
          ],
          "name": "stdout"
        }
      ]
    },
    {
      "cell_type": "code",
      "metadata": {
        "id": "pSSPfLsuM1b8",
        "colab_type": "code",
        "colab": {
          "base_uri": "https://localhost:8080/",
          "height": 52
        },
        "outputId": "0ef2de93-ad02-458e-a3d5-351f3a5e5f2a"
      },
      "source": [
        "y = (25, 69, 25, 26, 'Amit', 'Satya')\n",
        "print(y[3])\n",
        "print(y[5])"
      ],
      "execution_count": 16,
      "outputs": [
        {
          "output_type": "stream",
          "text": [
            "26\n",
            "Satya\n"
          ],
          "name": "stdout"
        }
      ]
    },
    {
      "cell_type": "code",
      "metadata": {
        "id": "HkFrsGgqNbOx",
        "colab_type": "code",
        "colab": {
          "base_uri": "https://localhost:8080/",
          "height": 52
        },
        "outputId": "ce9b8268-b485-4e9a-d8c4-dc311d3592a5"
      },
      "source": [
        "subj = ('Physics', 'Chemistry', 'Computer', 'Mathematics', 'English')\n",
        "print(subj[1:3])\n",
        "print(subj[2:4])"
      ],
      "execution_count": 18,
      "outputs": [
        {
          "output_type": "stream",
          "text": [
            "('Chemistry', 'Computer')\n",
            "('Computer', 'Mathematics')\n"
          ],
          "name": "stdout"
        }
      ]
    },
    {
      "cell_type": "code",
      "metadata": {
        "id": "D8qHBHR9ORc_",
        "colab_type": "code",
        "colab": {
          "base_uri": "https://localhost:8080/",
          "height": 34
        },
        "outputId": "384f03fc-1a77-4cd7-da29-ead9438038ee"
      },
      "source": [
        "# Updating tuples\n",
        "# tuples are immutable, which means we can't change the value of tuple elements, but we are able to take a portion of existing tuple and create a new tuple\n",
        "\n",
        "subj = ('Descrte Mathmetics', 'Apllied Statics', 'Linear Algebra')\n",
        "course = ('MCA', 'MSc')\n",
        "tuple1 = subj + course\n",
        "tuple1"
      ],
      "execution_count": 19,
      "outputs": [
        {
          "output_type": "execute_result",
          "data": {
            "text/plain": [
              "('Descrte Mathmetics', 'Apllied Statics', 'Linear Algebra', 'MCA', 'MSc')"
            ]
          },
          "metadata": {
            "tags": []
          },
          "execution_count": 19
        }
      ]
    },
    {
      "cell_type": "code",
      "metadata": {
        "id": "HxK_nSP9PHjf",
        "colab_type": "code",
        "colab": {
          "base_uri": "https://localhost:8080/",
          "height": 34
        },
        "outputId": "20b92269-dff6-46e8-f70c-62262b862d36"
      },
      "source": [
        "# Delete tuple elements\n",
        "# to removing individual tuple elements is not possible\n",
        "# so we can delete entire tuple using keyword 'del'\n",
        "\n",
        "\n",
        "y = ('India', 'pakistan', 'Afghanistan')\n",
        "print(y)"
      ],
      "execution_count": 25,
      "outputs": [
        {
          "output_type": "stream",
          "text": [
            "('India', 'pakistan', 'Afghanistan')\n"
          ],
          "name": "stdout"
        }
      ]
    },
    {
      "cell_type": "code",
      "metadata": {
        "id": "K9FpBf2gP5Um",
        "colab_type": "code",
        "colab": {}
      },
      "source": [
        "# deleting the tuple\n",
        "del y"
      ],
      "execution_count": 0,
      "outputs": []
    },
    {
      "cell_type": "code",
      "metadata": {
        "id": "eNIUkiBuP9yf",
        "colab_type": "code",
        "colab": {
          "base_uri": "https://localhost:8080/",
          "height": 167
        },
        "outputId": "498e8d87-3eab-46a8-d93f-b113fce7b4c7"
      },
      "source": [
        "# after deleting tuple, again print, traceback error generate tuple is not defined\n",
        "y"
      ],
      "execution_count": 27,
      "outputs": [
        {
          "output_type": "error",
          "ename": "NameError",
          "evalue": "ignored",
          "traceback": [
            "\u001b[0;31m---------------------------------------------------------------------------\u001b[0m",
            "\u001b[0;31mNameError\u001b[0m                                 Traceback (most recent call last)",
            "\u001b[0;32m<ipython-input-27-9063a9f0e032>\u001b[0m in \u001b[0;36m<module>\u001b[0;34m()\u001b[0m\n\u001b[0;32m----> 1\u001b[0;31m \u001b[0my\u001b[0m\u001b[0;34m\u001b[0m\u001b[0;34m\u001b[0m\u001b[0m\n\u001b[0m",
            "\u001b[0;31mNameError\u001b[0m: name 'y' is not defined"
          ]
        }
      ]
    },
    {
      "cell_type": "code",
      "metadata": {
        "id": "Z0W7-ecUQW06",
        "colab_type": "code",
        "colab": {
          "base_uri": "https://localhost:8080/",
          "height": 34
        },
        "outputId": "0b9b6c36-46ef-4a56-90f9-390fc88b3457"
      },
      "source": [
        "# Basic operations of tuples\n",
        "\n",
        "   # Length of tuples\n",
        "x = (1, 6, 'Python', 'DataScience')\n",
        "len(x)"
      ],
      "execution_count": 28,
      "outputs": [
        {
          "output_type": "execute_result",
          "data": {
            "text/plain": [
              "4"
            ]
          },
          "metadata": {
            "tags": []
          },
          "execution_count": 28
        }
      ]
    },
    {
      "cell_type": "code",
      "metadata": {
        "id": "uX1W_yimRBQJ",
        "colab_type": "code",
        "colab": {
          "base_uri": "https://localhost:8080/",
          "height": 34
        },
        "outputId": "1e1cc4cb-77ff-4473-efa4-3545f7119594"
      },
      "source": [
        "# cancatination\n",
        "\n",
        "s1 = (\"Mugees\",)\n",
        "s2 = (\" Ahmad\",)\n",
        "s3 = s1 + s2\n",
        "s3"
      ],
      "execution_count": 38,
      "outputs": [
        {
          "output_type": "execute_result",
          "data": {
            "text/plain": [
              "('Mugees', ' Ahmad')"
            ]
          },
          "metadata": {
            "tags": []
          },
          "execution_count": 38
        }
      ]
    },
    {
      "cell_type": "code",
      "metadata": {
        "id": "QNipnNHlRVKV",
        "colab_type": "code",
        "colab": {
          "base_uri": "https://localhost:8080/",
          "height": 34
        },
        "outputId": "f4901491-200f-477e-abf2-c2e52ea150da"
      },
      "source": [
        "# Repetition\n",
        "\n",
        "s1 = ('Hello',)*6\n",
        "s1"
      ],
      "execution_count": 39,
      "outputs": [
        {
          "output_type": "execute_result",
          "data": {
            "text/plain": [
              "('Hello', 'Hello', 'Hello', 'Hello', 'Hello', 'Hello')"
            ]
          },
          "metadata": {
            "tags": []
          },
          "execution_count": 39
        }
      ]
    },
    {
      "cell_type": "code",
      "metadata": {
        "id": "oZkJUftSSWVs",
        "colab_type": "code",
        "colab": {
          "base_uri": "https://localhost:8080/",
          "height": 34
        },
        "outputId": "57166b6c-8882-4d89-e67f-242f848b2a28"
      },
      "source": [
        "# Membership\n",
        "3 in (1, 2, 3)"
      ],
      "execution_count": 40,
      "outputs": [
        {
          "output_type": "execute_result",
          "data": {
            "text/plain": [
              "True"
            ]
          },
          "metadata": {
            "tags": []
          },
          "execution_count": 40
        }
      ]
    },
    {
      "cell_type": "code",
      "metadata": {
        "id": "Rylei4bhSlD3",
        "colab_type": "code",
        "colab": {
          "base_uri": "https://localhost:8080/",
          "height": 34
        },
        "outputId": "a1c69f86-efc3-4a03-8fbf-efcbd4e7f1c5"
      },
      "source": [
        "5 in ('Mugees', 6, 15, 'Scachin')"
      ],
      "execution_count": 42,
      "outputs": [
        {
          "output_type": "execute_result",
          "data": {
            "text/plain": [
              "False"
            ]
          },
          "metadata": {
            "tags": []
          },
          "execution_count": 42
        }
      ]
    },
    {
      "cell_type": "code",
      "metadata": {
        "id": "Sk-r3jDCSwHZ",
        "colab_type": "code",
        "colab": {
          "base_uri": "https://localhost:8080/",
          "height": 70
        },
        "outputId": "df544310-397d-498d-924c-f3de94b4fab4"
      },
      "source": [
        "# Iteration \n",
        "for x in (1, 2, 3):\n",
        "  print(x)"
      ],
      "execution_count": 43,
      "outputs": [
        {
          "output_type": "stream",
          "text": [
            "1\n",
            "2\n",
            "3\n"
          ],
          "name": "stdout"
        }
      ]
    },
    {
      "cell_type": "code",
      "metadata": {
        "id": "7KEs7BWbS4sB",
        "colab_type": "code",
        "colab": {}
      },
      "source": [
        ""
      ],
      "execution_count": 0,
      "outputs": []
    }
  ]
}