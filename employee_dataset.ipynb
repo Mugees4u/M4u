{
  "nbformat": 4,
  "nbformat_minor": 0,
  "metadata": {
    "colab": {
      "name": "employee_dataset.ipynb",
      "version": "0.3.2",
      "provenance": [],
      "collapsed_sections": [],
      "include_colab_link": true
    },
    "kernelspec": {
      "name": "python3",
      "display_name": "Python 3"
    }
  },
  "cells": [
    {
      "cell_type": "markdown",
      "metadata": {
        "id": "view-in-github",
        "colab_type": "text"
      },
      "source": [
        "<a href=\"https://colab.research.google.com/github/Mugees4u/M4u/blob/master/employee_dataset.ipynb\" target=\"_parent\"><img src=\"https://colab.research.google.com/assets/colab-badge.svg\" alt=\"Open In Colab\"/></a>"
      ]
    },
    {
      "cell_type": "code",
      "metadata": {
        "id": "68xOIIas0DHt",
        "colab_type": "code",
        "colab": {
          "base_uri": "https://localhost:8080/",
          "height": 1000
        },
        "outputId": "19d7b244-630f-40ce-bc7c-7c09f5f4519e"
      },
      "source": [
        "import numpy as np\n",
        "import pandas as pd\n",
        "data_employee = {'employee_id': np.arange(1, 151),\n",
        "                'age': np.random.randint(30, 65, size = 150),\n",
        "                'basic pay': np.random.randint(15800, 57890, size = 150),\n",
        "                'no of clients': np.random.randint(1, 41, size = 150),\n",
        "                'performance score': np.random.randint(0, 2, size = 150)}\n",
        "df = pd.DataFrame(data_employee, columns = ['employee_id', 'age', 'basic pay', 'no of clients', 'performance score'])\n",
        "print(df.head(100))"
      ],
      "execution_count": 42,
      "outputs": [
        {
          "output_type": "stream",
          "text": [
            "    employee_id  age  basic pay  no of clients  performance score\n",
            "0             1   59      50502              4                  0\n",
            "1             2   58      57169             32                  0\n",
            "2             3   60      16689             20                  0\n",
            "3             4   48      45521             14                  1\n",
            "4             5   47      34180             28                  1\n",
            "5             6   53      38658              5                  0\n",
            "6             7   53      54663             15                  1\n",
            "7             8   35      48942              9                  0\n",
            "8             9   57      46428              2                  1\n",
            "9            10   37      51178             11                  1\n",
            "10           11   45      43227              4                  0\n",
            "11           12   48      21189             17                  1\n",
            "12           13   46      21104             29                  0\n",
            "13           14   60      31131             34                  1\n",
            "14           15   56      46411             31                  0\n",
            "15           16   47      38233             16                  0\n",
            "16           17   39      34154              4                  0\n",
            "17           18   55      46654             30                  0\n",
            "18           19   48      36829             37                  0\n",
            "19           20   52      52109              6                  1\n",
            "20           21   63      32954             13                  0\n",
            "21           22   39      30369             29                  0\n",
            "22           23   49      50859             31                  1\n",
            "23           24   52      35672              3                  1\n",
            "24           25   60      33039             18                  0\n",
            "25           26   33      16402              4                  0\n",
            "26           27   34      45280             40                  1\n",
            "27           28   59      51602             21                  0\n",
            "28           29   54      21384             14                  0\n",
            "29           30   62      18952             39                  0\n",
            "..          ...  ...        ...            ...                ...\n",
            "70           71   61      57199             17                  1\n",
            "71           72   62      36284              8                  0\n",
            "72           73   32      41818             34                  1\n",
            "73           74   35      27763             28                  0\n",
            "74           75   61      48424              1                  0\n",
            "75           76   57      49729             11                  0\n",
            "76           77   31      26474              2                  1\n",
            "77           78   60      42888             40                  1\n",
            "78           79   48      46416             35                  0\n",
            "79           80   57      57767             38                  0\n",
            "80           81   59      40737             18                  0\n",
            "81           82   57      36231             34                  0\n",
            "82           83   34      54605             23                  1\n",
            "83           84   59      57592             19                  0\n",
            "84           85   51      18309             28                  1\n",
            "85           86   51      38275             13                  0\n",
            "86           87   30      49597             27                  1\n",
            "87           88   57      42432             38                  0\n",
            "88           89   63      28561              9                  1\n",
            "89           90   49      34983              3                  1\n",
            "90           91   51      20877             33                  1\n",
            "91           92   41      43527             32                  1\n",
            "92           93   36      17718             30                  0\n",
            "93           94   31      54611             29                  1\n",
            "94           95   55      53234             35                  1\n",
            "95           96   51      31137             19                  1\n",
            "96           97   52      28272             37                  1\n",
            "97           98   37      39528             27                  0\n",
            "98           99   60      30548             38                  0\n",
            "99          100   49      43002             25                  1\n",
            "\n",
            "[100 rows x 5 columns]\n"
          ],
          "name": "stdout"
        }
      ]
    }
  ]
}