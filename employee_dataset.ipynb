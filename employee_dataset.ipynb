{
  "nbformat": 4,
  "nbformat_minor": 0,
  "metadata": {
    "colab": {
      "name": "employee_dataset.ipynb",
      "version": "0.3.2",
      "provenance": [],
      "collapsed_sections": [],
      "include_colab_link": true
    },
    "kernelspec": {
      "name": "python3",
      "display_name": "Python 3"
    }
  },
  "cells": [
    {
      "cell_type": "markdown",
      "metadata": {
        "id": "view-in-github",
        "colab_type": "text"
      },
      "source": [
        "<a href=\"https://colab.research.google.com/github/Mugees4u/M4u/blob/master/employee_dataset.ipynb\" target=\"_parent\"><img src=\"https://colab.research.google.com/assets/colab-badge.svg\" alt=\"Open In Colab\"/></a>"
      ]
    },
    {
      "cell_type": "code",
      "metadata": {
        "id": "68xOIIas0DHt",
        "colab_type": "code",
        "colab": {
          "base_uri": "https://localhost:8080/",
          "height": 122
        },
        "outputId": "3c43c32e-42e2-4433-8c5f-fecf548c69a5"
      },
      "source": [
        "import numpy as np\n",
        "import pandas as pd\n",
        "data_employee = {'employee_id': np.arange(1, 151),\n",
        "                'age': np.random.randint(30, 65, size = 150),\n",
        "                'basic pay': np.random.randint(15800, 57890, size = 150),\n",
        "                'no of clients': np.random.randint(1, 41, size = 150),\n",
        "                'performance score': np.random.randint(0, 2, size = 150)}\n",
        "df = pd.DataFrame(data_employee, columns = ['employee_id', 'age', 'basic pay', 'no of clients', 'performance score'])\n",
        "print(df.head())"
      ],
      "execution_count": 44,
      "outputs": [
        {
          "output_type": "stream",
          "text": [
            "   employee_id  age  basic pay  no of clients  performance score\n",
            "0            1   42      26263             40                  1\n",
            "1            2   33      48129             15                  1\n",
            "2            3   34      55359              6                  1\n",
            "3            4   50      47785             27                  0\n",
            "4            5   37      23275             36                  0\n"
          ],
          "name": "stdout"
        }
      ]
    }
  ]
}