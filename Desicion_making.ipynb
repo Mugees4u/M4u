{
  "nbformat": 4,
  "nbformat_minor": 0,
  "metadata": {
    "colab": {
      "name": "Desicion-making.ipynb",
      "provenance": [],
      "collapsed_sections": [],
      "authorship_tag": "ABX9TyO1P9Ix+j1DVC+eBk4gdn8O"
    },
    "kernelspec": {
      "name": "python3",
      "display_name": "Python 3"
    }
  },
  "cells": [
    {
      "cell_type": "code",
      "metadata": {
        "id": "OPIeiXNDd_2P",
        "colab_type": "code",
        "colab": {
          "base_uri": "https://localhost:8080/",
          "height": 52
        },
        "outputId": "93222f9d-11f2-4536-bf82-d19deaa86992"
      },
      "source": [
        "# If statement: It contains a logical expression which data is compeared and a decision is made based on the result of the compresion\n",
        "\n",
        "x = 15\n",
        "if x:\n",
        "  print(\"1. receved the input expression\")\n",
        "  print(x)"
      ],
      "execution_count": 1,
      "outputs": [
        {
          "output_type": "stream",
          "text": [
            "1. receved the input expression\n",
            "15\n"
          ],
          "name": "stdout"
        }
      ]
    },
    {
      "cell_type": "code",
      "metadata": {
        "id": "HUwz6h9wgGkV",
        "colab_type": "code",
        "colab": {
          "base_uri": "https://localhost:8080/",
          "height": 34
        },
        "outputId": "4c117edc-fb4b-426c-fde8-14265dbe63e9"
      },
      "source": [
        "x = 125\n",
        "if (x == 100):\n",
        "  print(\"value of expression is 100\")\n",
        "print(\"good bye\")"
      ],
      "execution_count": 3,
      "outputs": [
        {
          "output_type": "stream",
          "text": [
            "good bye\n"
          ],
          "name": "stdout"
        }
      ]
    },
    {
      "cell_type": "code",
      "metadata": {
        "id": "g1mcj-Npf73k",
        "colab_type": "code",
        "colab": {
          "base_uri": "https://localhost:8080/",
          "height": 34
        },
        "outputId": "ef84450f-3b16-4b77-fb8a-f6deb63367e9"
      },
      "source": [
        "# if else statement: this statments contains the block of code that executed if the condition expression in the if statement is false\n",
        "\n",
        "a = 10\n",
        "b = 25\n",
        "c = a + b\n",
        "if (c > 35):\n",
        "  print(\"Wlecome\")\n",
        "else:\n",
        "  print(\"Better luck next time!\")\n"
      ],
      "execution_count": 4,
      "outputs": [
        {
          "output_type": "stream",
          "text": [
            "Better luck next time!\n"
          ],
          "name": "stdout"
        }
      ]
    },
    {
      "cell_type": "code",
      "metadata": {
        "id": "CvUgvUHkkruT",
        "colab_type": "code",
        "colab": {
          "base_uri": "https://localhost:8080/",
          "height": 52
        },
        "outputId": "30a14e84-9de9-4673-868e-60e484b3d03d"
      },
      "source": [
        "# elif statements: this statements allows you to check multiple expression for ture and executed a block of code as soon as one of the condition is evaluated\n",
        "\n",
        "math = 25\n",
        "eng = 35\n",
        "sci = 40\n",
        "total = math + eng + sci\n",
        "print(\"Total marks is: \", total)\n",
        "\n",
        "if (total < 60):\n",
        "  print(\"Bad luck!\")\n",
        "elif (total == 60):\n",
        "  print(\"you are passed!\")\n",
        "elif (total > 80):\n",
        "  print(\"You are scecond\")\n",
        "elif(total > = 90):\n",
        "  print(\"your are first\")"
      ],
      "execution_count": 13,
      "outputs": [
        {
          "output_type": "stream",
          "text": [
            "Total marks is:  100\n",
            "You are scecond\n"
          ],
          "name": "stdout"
        }
      ]
    },
    {
      "cell_type": "code",
      "metadata": {
        "id": "0xKkTm3mnjEF",
        "colab_type": "code",
        "colab": {
          "base_uri": "https://localhost:8080/",
          "height": 70
        },
        "outputId": "ce5db7ac-9441-44ea-846f-b008974922c6"
      },
      "source": [
        "# Nested if: there may be a situation where you want to check another condition after a condition is resolves to true.\n",
        "\n",
        "x = 100\n",
        "if x < 200:\n",
        "  print(\"value is less than 200\")\n",
        "  if x == 150:\n",
        "    print(\"which is 150\")\n",
        "  elif (x == 100):\n",
        "    print(\"value is 100\")\n",
        "  elif(x == 50):\n",
        "    print(\"value is 50\")\n",
        "  elif(x < 50):\n",
        "    print(\"value is less than 50\")\n",
        "else:\n",
        "  print(\"could not find the expression\")\n",
        "\n",
        "print(\"good bye\")"
      ],
      "execution_count": 16,
      "outputs": [
        {
          "output_type": "stream",
          "text": [
            "value is less than 200\n",
            "value is 100\n",
            "good bye\n"
          ],
          "name": "stdout"
        }
      ]
    }
  ]
}