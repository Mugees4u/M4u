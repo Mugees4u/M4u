{
  "nbformat": 4,
  "nbformat_minor": 0,
  "metadata": {
    "colab": {
      "name": "Dictionary.ipynb",
      "provenance": [],
      "collapsed_sections": [],
      "authorship_tag": "ABX9TyNY/NVmne1JMJfFOC/9wa+L",
      "include_colab_link": true
    },
    "kernelspec": {
      "name": "python3",
      "display_name": "Python 3"
    }
  },
  "cells": [
    {
      "cell_type": "markdown",
      "metadata": {
        "id": "view-in-github",
        "colab_type": "text"
      },
      "source": [
        "<a href=\"https://colab.research.google.com/github/Mugees4u/M4u/blob/master/Dictionary.ipynb\" target=\"_parent\"><img src=\"https://colab.research.google.com/assets/colab-badge.svg\" alt=\"Open In Colab\"/></a>"
      ]
    },
    {
      "cell_type": "code",
      "metadata": {
        "id": "Fbrm-YVcwlAG",
        "colab_type": "code",
        "colab": {
          "base_uri": "https://localhost:8080/",
          "height": 34
        },
        "outputId": "aa5e10fe-7f66-478b-ae5f-46bd1ba8fa08"
      },
      "source": [
        "# Dictinary\n",
        "# It contains a key value pair, each key is seprated from it's value by colon(:) & the whole things are enclosed within curley brackets\n",
        "\n",
        "# key are the must be unique within dictionay, while values may or may not\n",
        "\n",
        "# The values of dictionay can be of any types, but key must be immutable data types such as string, number, or tuples\n",
        "\n",
        "x = {'Age': 24, 'Name': 'Mugees Ahmad', 'Phone': 9891998160}\n",
        "x"
      ],
      "execution_count": 1,
      "outputs": [
        {
          "output_type": "execute_result",
          "data": {
            "text/plain": [
              "{'Age': 24, 'Name': 'Mugees Ahmad', 'Phone': 9891998160}"
            ]
          },
          "metadata": {
            "tags": []
          },
          "execution_count": 1
        }
      ]
    },
    {
      "cell_type": "code",
      "metadata": {
        "id": "ZMZwrfUUxXk8",
        "colab_type": "code",
        "colab": {
          "base_uri": "https://localhost:8080/",
          "height": 34
        },
        "outputId": "25f91f04-931c-4aa8-c9df-b02d8bbfa35a"
      },
      "source": [
        "# Accessing the values in Dictionary\n",
        "# [] follows the key to obtain its value\n",
        "\n",
        "y = {'Name': 'Mohit', 'Age':25}\n",
        "y['Name']"
      ],
      "execution_count": 7,
      "outputs": [
        {
          "output_type": "execute_result",
          "data": {
            "text/plain": [
              "'Mohit'"
            ]
          },
          "metadata": {
            "tags": []
          },
          "execution_count": 7
        }
      ]
    },
    {
      "cell_type": "code",
      "metadata": {
        "id": "2SvnTCNO1eWu",
        "colab_type": "code",
        "colab": {
          "base_uri": "https://localhost:8080/",
          "height": 34
        },
        "outputId": "589f7fe1-059c-4807-8833-06aa2a8ac68f"
      },
      "source": [
        "y['Age']"
      ],
      "execution_count": 8,
      "outputs": [
        {
          "output_type": "execute_result",
          "data": {
            "text/plain": [
              "25"
            ]
          },
          "metadata": {
            "tags": []
          },
          "execution_count": 8
        }
      ]
    },
    {
      "cell_type": "code",
      "metadata": {
        "id": "cYxhhXoU1q2f",
        "colab_type": "code",
        "colab": {
          "base_uri": "https://localhost:8080/",
          "height": 34
        },
        "outputId": "eaf37d50-20a8-498f-b815-2db7f4652251"
      },
      "source": [
        "# Updation on Dictionary\n",
        "# we can update a dictionary by adding a new key-pair, modifying an existing entry or deleting an existing entry\n",
        "\n",
        "x = {'Name': 'Mugees', 'Age': 25, 'Course': 'Data Science'}\n",
        "x"
      ],
      "execution_count": 9,
      "outputs": [
        {
          "output_type": "execute_result",
          "data": {
            "text/plain": [
              "{'Age': 25, 'Course': 'Data Science', 'Name': 'Mugees'}"
            ]
          },
          "metadata": {
            "tags": []
          },
          "execution_count": 9
        }
      ]
    },
    {
      "cell_type": "code",
      "metadata": {
        "id": "H0rWnBAD2eiY",
        "colab_type": "code",
        "colab": {
          "base_uri": "https://localhost:8080/",
          "height": 87
        },
        "outputId": "63b179df-37e4-484c-b38f-5a9dbeaaacdb"
      },
      "source": [
        "# Update on existing age \n",
        "x['Age'] = 28\n",
        "x\n",
        "\n",
        "# Add new entry\n",
        "\n",
        "x['Institute'] = \"Naresh iT\"\n",
        "x"
      ],
      "execution_count": 12,
      "outputs": [
        {
          "output_type": "execute_result",
          "data": {
            "text/plain": [
              "{'Age': 28,\n",
              " 'Course': 'Data Science',\n",
              " 'Institute': 'Naresh iT',\n",
              " 'Name': 'Mugees'}"
            ]
          },
          "metadata": {
            "tags": []
          },
          "execution_count": 12
        }
      ]
    },
    {
      "cell_type": "code",
      "metadata": {
        "id": "ULKx1hy83SRV",
        "colab_type": "code",
        "colab": {
          "base_uri": "https://localhost:8080/",
          "height": 34
        },
        "outputId": "b1ceaf51-3ba2-45e7-f6aa-dec35a9372a9"
      },
      "source": [
        "# Delete Operations on Dictionary\n",
        "# We can either delete a individual dict. elements or clear the entire content of dictionary.\n",
        "# We can also delete entire dict. on single operation\n",
        "\n",
        "dict = {'Name': 'Anurag', 'Salary': 25000, 'Desgination': 'DataScientist'}\n",
        "dict"
      ],
      "execution_count": 17,
      "outputs": [
        {
          "output_type": "execute_result",
          "data": {
            "text/plain": [
              "{'Desgination': 'DataScientist', 'Name': 'Anurag', 'Salary': 25000}"
            ]
          },
          "metadata": {
            "tags": []
          },
          "execution_count": 17
        }
      ]
    },
    {
      "cell_type": "code",
      "metadata": {
        "id": "xBisi6io3-IF",
        "colab_type": "code",
        "colab": {}
      },
      "source": [
        "# delete entry with key 'Name'\n",
        "del dict['Name']"
      ],
      "execution_count": 0,
      "outputs": []
    },
    {
      "cell_type": "code",
      "metadata": {
        "id": "2sdgI7WB4S0R",
        "colab_type": "code",
        "colab": {
          "base_uri": "https://localhost:8080/",
          "height": 34
        },
        "outputId": "e7586327-8d10-422a-95d7-06a6a7ee38bf"
      },
      "source": [
        "dict"
      ],
      "execution_count": 19,
      "outputs": [
        {
          "output_type": "execute_result",
          "data": {
            "text/plain": [
              "{'Desgination': 'DataScientist', 'Salary': 25000}"
            ]
          },
          "metadata": {
            "tags": []
          },
          "execution_count": 19
        }
      ]
    },
    {
      "cell_type": "code",
      "metadata": {
        "id": "aet01nex4Vlb",
        "colab_type": "code",
        "colab": {}
      },
      "source": [
        "# delete all entries in dict.\n",
        "dict.clear()"
      ],
      "execution_count": 0,
      "outputs": []
    },
    {
      "cell_type": "code",
      "metadata": {
        "id": "Y0-u2G6E4j0j",
        "colab_type": "code",
        "colab": {
          "base_uri": "https://localhost:8080/",
          "height": 34
        },
        "outputId": "8f6d4f9e-0ecb-4d33-fc99-b847ebef9801"
      },
      "source": [
        "dict"
      ],
      "execution_count": 21,
      "outputs": [
        {
          "output_type": "execute_result",
          "data": {
            "text/plain": [
              "{}"
            ]
          },
          "metadata": {
            "tags": []
          },
          "execution_count": 21
        }
      ]
    },
    {
      "cell_type": "code",
      "metadata": {
        "id": "PvT809sr4m6h",
        "colab_type": "code",
        "colab": {}
      },
      "source": [
        "# delete entire dictionary\n",
        "del dict"
      ],
      "execution_count": 0,
      "outputs": []
    },
    {
      "cell_type": "code",
      "metadata": {
        "id": "iJQ8gUP24rvL",
        "colab_type": "code",
        "colab": {
          "base_uri": "https://localhost:8080/",
          "height": 167
        },
        "outputId": "5282a834-5ada-4fb9-dfd2-592345fbddaf"
      },
      "source": [
        "# It will generate Traceback error, bocoze dictonary is deleted\n",
        "dict['Age']"
      ],
      "execution_count": 24,
      "outputs": [
        {
          "output_type": "error",
          "ename": "TypeError",
          "evalue": "ignored",
          "traceback": [
            "\u001b[0;31m---------------------------------------------------------------------------\u001b[0m",
            "\u001b[0;31mTypeError\u001b[0m                                 Traceback (most recent call last)",
            "\u001b[0;32m<ipython-input-24-10adce96996a>\u001b[0m in \u001b[0;36m<module>\u001b[0;34m()\u001b[0m\n\u001b[0;32m----> 1\u001b[0;31m \u001b[0mdict\u001b[0m\u001b[0;34m[\u001b[0m\u001b[0;34m'Age'\u001b[0m\u001b[0;34m]\u001b[0m\u001b[0;34m\u001b[0m\u001b[0;34m\u001b[0m\u001b[0m\n\u001b[0m",
            "\u001b[0;31mTypeError\u001b[0m: 'type' object is not subscriptable"
          ]
        }
      ]
    },
    {
      "cell_type": "code",
      "metadata": {
        "id": "g2H3qics5C4n",
        "colab_type": "code",
        "colab": {
          "base_uri": "https://localhost:8080/",
          "height": 34
        },
        "outputId": "0f8e9920-31c2-4ed1-9e45-b23ff03de675"
      },
      "source": [
        "# Properties of dictionary\n",
        "# 1. No duplicate key allowed. When duplicate key is encountered during assignment, last assignment win\n",
        "\n",
        "x = {'Name': 'Srikant', 'Age': 20, 'Name': 'Addapalli'}\n",
        "x"
      ],
      "execution_count": 25,
      "outputs": [
        {
          "output_type": "execute_result",
          "data": {
            "text/plain": [
              "{'Age': 20, 'Name': 'Addapalli'}"
            ]
          },
          "metadata": {
            "tags": []
          },
          "execution_count": 25
        }
      ]
    },
    {
      "cell_type": "code",
      "metadata": {
        "id": "FkfgmWf66qph",
        "colab_type": "code",
        "colab": {
          "base_uri": "https://localhost:8080/",
          "height": 34
        },
        "outputId": "e63affdc-3843-4a33-c850-2595d3ca2a52"
      },
      "source": [
        "x['Name']"
      ],
      "execution_count": 27,
      "outputs": [
        {
          "output_type": "execute_result",
          "data": {
            "text/plain": [
              "'Addapalli'"
            ]
          },
          "metadata": {
            "tags": []
          },
          "execution_count": 27
        }
      ]
    },
    {
      "cell_type": "code",
      "metadata": {
        "id": "6qhL0vVa6185",
        "colab_type": "code",
        "colab": {
          "base_uri": "https://localhost:8080/",
          "height": 202
        },
        "outputId": "63e4171d-391d-497c-a2d2-ac1c0a0dbcbb"
      },
      "source": [
        "# 2. Key must be immutable, but something like ['Key'] is not allowed.\n",
        "\n",
        "x = {['Name']: 'India', 'Freedom': 1947}\n",
        "x['Name']"
      ],
      "execution_count": 28,
      "outputs": [
        {
          "output_type": "error",
          "ename": "TypeError",
          "evalue": "ignored",
          "traceback": [
            "\u001b[0;31m---------------------------------------------------------------------------\u001b[0m",
            "\u001b[0;31mTypeError\u001b[0m                                 Traceback (most recent call last)",
            "\u001b[0;32m<ipython-input-28-4911678d63e6>\u001b[0m in \u001b[0;36m<module>\u001b[0;34m()\u001b[0m\n\u001b[1;32m      1\u001b[0m \u001b[0;34m\u001b[0m\u001b[0m\n\u001b[0;32m----> 2\u001b[0;31m \u001b[0mx\u001b[0m \u001b[0;34m=\u001b[0m \u001b[0;34m{\u001b[0m\u001b[0;34m[\u001b[0m\u001b[0;34m'Name'\u001b[0m\u001b[0;34m]\u001b[0m\u001b[0;34m:\u001b[0m \u001b[0;34m'India'\u001b[0m\u001b[0;34m,\u001b[0m \u001b[0;34m'Freedom'\u001b[0m\u001b[0;34m:\u001b[0m \u001b[0;36m1947\u001b[0m\u001b[0;34m}\u001b[0m\u001b[0;34m\u001b[0m\u001b[0;34m\u001b[0m\u001b[0m\n\u001b[0m\u001b[1;32m      3\u001b[0m \u001b[0mx\u001b[0m\u001b[0;34m[\u001b[0m\u001b[0;34m'Name'\u001b[0m\u001b[0;34m]\u001b[0m\u001b[0;34m\u001b[0m\u001b[0;34m\u001b[0m\u001b[0m\n",
            "\u001b[0;31mTypeError\u001b[0m: unhashable type: 'list'"
          ]
        }
      ]
    },
    {
      "cell_type": "code",
      "metadata": {
        "id": "GCsBzCdm7gXP",
        "colab_type": "code",
        "colab": {}
      },
      "source": [
        ""
      ],
      "execution_count": 0,
      "outputs": []
    }
  ]
}