{
  "cells": [
    {
      "cell_type": "markdown",
      "metadata": {
        "id": "view-in-github",
        "colab_type": "text"
      },
      "source": [
        "<a href=\"https://colab.research.google.com/github/Mugees4u/M4u/blob/master/NumPy_Arrays.ipynb\" target=\"_parent\"><img src=\"https://colab.research.google.com/assets/colab-badge.svg\" alt=\"Open In Colab\"/></a>"
      ]
    },
    {
      "cell_type": "markdown",
      "id": "415575ce",
      "metadata": {
        "id": "415575ce"
      },
      "source": [
        "### Empty Array: create an uninitialized array of specified shape and data type on runtime\n",
        "\n",
        "### Sysntax:\n",
        "### np.empty(shape, dtype, order)\n",
        "## dtype - float  (default)\n",
        "## order = 'c'  (dfault)"
      ]
    },
    {
      "cell_type": "code",
      "execution_count": 1,
      "id": "59de5fc7",
      "metadata": {
        "colab": {
          "base_uri": "https://localhost:8080/"
        },
        "id": "59de5fc7",
        "outputId": "af124a2c-305a-4b42-e4ad-0df7c1f09f8e"
      },
      "outputs": [
        {
          "output_type": "execute_result",
          "data": {
            "text/plain": [
              "array([[2.2539496e-316, 0.0000000e+000, 0.0000000e+000],\n",
              "       [0.0000000e+000, 0.0000000e+000, 0.0000000e+000]])"
            ]
          },
          "metadata": {},
          "execution_count": 1
        }
      ],
      "source": [
        "import numpy as np\n",
        "np.empty((2,3))"
      ]
    },
    {
      "cell_type": "code",
      "execution_count": 2,
      "id": "9a640437",
      "metadata": {
        "colab": {
          "base_uri": "https://localhost:8080/"
        },
        "id": "9a640437",
        "outputId": "4a873fa7-5bd7-468d-e7d8-3301780bfb40"
      },
      "outputs": [
        {
          "output_type": "stream",
          "name": "stdout",
          "text": [
            "[[45620448        0]\n",
            " [       0        0]\n",
            " [       0        0]]\n"
          ]
        }
      ],
      "source": [
        "#prog:\n",
        "import numpy as np\n",
        "\n",
        "a = np.empty((3, 2), dtype=int)\n",
        "print(a)"
      ]
    },
    {
      "cell_type": "markdown",
      "id": "e15798e0",
      "metadata": {
        "id": "e15798e0"
      },
      "source": [
        "## Basic characterstics of Array"
      ]
    },
    {
      "cell_type": "code",
      "execution_count": 3,
      "id": "7463c3b5",
      "metadata": {
        "colab": {
          "base_uri": "https://localhost:8080/"
        },
        "id": "7463c3b5",
        "outputId": "50f8b9b5-9ca6-4d3b-e170-3b67d5362b80"
      },
      "outputs": [
        {
          "output_type": "stream",
          "name": "stdout",
          "text": [
            "Array:\n",
            " [[1 2 3]\n",
            " [3 4 5]]\n",
            "Array is type of:\n",
            " <class 'numpy.ndarray'>\n",
            "Dimension of array:\n",
            " 2\n",
            "shape of array:\n",
            " (2, 3)\n",
            "Size of an array:\n",
            " 6\n",
            "Elements types:\n",
            " int64\n"
          ]
        }
      ],
      "source": [
        "import numpy as np\n",
        "\n",
        "a = np.array([[1, 2, 3], [3, 4, 5]])\n",
        "print(\"Array:\\n\", a)\n",
        "\n",
        "# types of array\n",
        "print(\"Array is type of:\\n\", type(a))\n",
        "\n",
        "#dimension of array\n",
        "print('Dimension of array:\\n', a.ndim)\n",
        "\n",
        "#shape of an array\n",
        "print('shape of array:\\n', a.shape)\n",
        "\n",
        "# Size of an array\n",
        "print('Size of an array:\\n', a.size)\n",
        "\n",
        "#Types of elements in array\n",
        "print('Elements types:\\n', a.dtype)"
      ]
    },
    {
      "cell_type": "code",
      "execution_count": 4,
      "id": "8053be7b",
      "metadata": {
        "colab": {
          "base_uri": "https://localhost:8080/"
        },
        "id": "8053be7b",
        "outputId": "aa6082e6-5905-4cbc-8173-472272a73b45"
      },
      "outputs": [
        {
          "output_type": "stream",
          "name": "stdout",
          "text": [
            "[[ 6.   7.   8. ]\n",
            " [ 7.   8.5 13. ]\n",
            " [14.  12.  16. ]]\n",
            "2\n",
            "(3, 3)\n",
            "9\n",
            "float64\n"
          ]
        }
      ],
      "source": [
        "import numpy as np\n",
        "x = np.array([[6, 7, 8], [7, 8.5, 13], [14, 12, 16]])\n",
        "print(x)\n",
        "print(x.ndim)\n",
        "print(x.shape)\n",
        "print(x.size)\n",
        "print(x.dtype)"
      ]
    },
    {
      "cell_type": "markdown",
      "id": "74fab9f8",
      "metadata": {
        "id": "74fab9f8"
      },
      "source": [
        "## Create an array from list"
      ]
    },
    {
      "cell_type": "code",
      "execution_count": 5,
      "id": "39630cd9",
      "metadata": {
        "colab": {
          "base_uri": "https://localhost:8080/"
        },
        "id": "39630cd9",
        "outputId": "53d64e3b-5e2e-41b1-bc07-66ede33071da"
      },
      "outputs": [
        {
          "output_type": "stream",
          "name": "stdout",
          "text": [
            "[6 8 9]\n",
            "3\n",
            "1\n",
            "(3,)\n",
            "int64\n",
            "<class 'numpy.ndarray'>\n"
          ]
        }
      ],
      "source": [
        "import numpy as np\n",
        "l1 = np.array([6, 8, 9])\n",
        "print(l1)\n",
        "\n",
        "print(l1.size)  # size of array\n",
        "\n",
        "print(l1.ndim)  # dimension of array\n",
        "\n",
        "print(l1.shape)  #shape of array\n",
        "\n",
        "print(l1.dtype)\n",
        "\n",
        "print(type(l1))   # types of array"
      ]
    },
    {
      "cell_type": "code",
      "execution_count": 6,
      "id": "077dd29c",
      "metadata": {
        "colab": {
          "base_uri": "https://localhost:8080/"
        },
        "id": "077dd29c",
        "outputId": "af79de25-e16c-40fc-a7ee-9e340dee81ff"
      },
      "outputs": [
        {
          "output_type": "stream",
          "name": "stdout",
          "text": [
            "['Pizza' 'Pasta' 'Mecroni']\n",
            "<U7\n"
          ]
        }
      ],
      "source": [
        "# Prog. create an array from list\n",
        "\n",
        "menu = np.array(['Pizza', 'Pasta', 'Mecroni'])\n",
        "print(menu)\n",
        "\n",
        "#dtypes of an array\n",
        "print(menu.dtype)"
      ]
    },
    {
      "cell_type": "markdown",
      "id": "34ea7c8d",
      "metadata": {
        "id": "34ea7c8d"
      },
      "source": [
        "## Arange\n",
        "### It create an array by using the evenly spaced values over the given interval\n",
        "\n",
        "#### np.arange(value)\n",
        "#### or\n",
        "#### np.arange(start, stop, step, dtype)\n"
      ]
    },
    {
      "cell_type": "code",
      "execution_count": 7,
      "id": "66151cc5",
      "metadata": {
        "colab": {
          "base_uri": "https://localhost:8080/"
        },
        "id": "66151cc5",
        "outputId": "4b756960-de71-4921-eb69-48213ece8e4d"
      },
      "outputs": [
        {
          "output_type": "stream",
          "name": "stdout",
          "text": [
            "[ 0  1  2  3  4  5  6  7  8  9 10 11 12 13 14]\n"
          ]
        }
      ],
      "source": [
        "import numpy as np\n",
        "x = np.arange(15)\n",
        "print(x)"
      ]
    },
    {
      "cell_type": "code",
      "execution_count": 8,
      "id": "845a3159",
      "metadata": {
        "colab": {
          "base_uri": "https://localhost:8080/"
        },
        "id": "845a3159",
        "outputId": "9955aa8f-b2ac-49d2-8f35-5ad450f97cf9"
      },
      "outputs": [
        {
          "output_type": "stream",
          "name": "stdout",
          "text": [
            "[ 4  5  6  7  8  9 10 11 12]\n"
          ]
        }
      ],
      "source": [
        "# prog. create an array by using 'arange'\n",
        "import numpy as np\n",
        "y = np.arange(4, 13)\n",
        "print(y)"
      ]
    },
    {
      "cell_type": "markdown",
      "id": "46024701",
      "metadata": {
        "id": "46024701"
      },
      "source": [
        "## Create a linear-spaced array items\n",
        "\n",
        "t is similar to arange function, it doesn't allow step size, instead of that, it only returns evenly seprated values over a specified period.\n",
        "The system implicitly calculated the step size.\n",
        "\n",
        "### Syntax:\n",
        "   ### np.linspace(start, stop, num, endpoint)"
      ]
    },
    {
      "cell_type": "code",
      "execution_count": 9,
      "id": "938435e6",
      "metadata": {
        "colab": {
          "base_uri": "https://localhost:8080/"
        },
        "id": "938435e6",
        "outputId": "0967ebfb-3c5d-4af6-8954-c66f44e0dad0"
      },
      "outputs": [
        {
          "output_type": "execute_result",
          "data": {
            "text/plain": [
              "array([0.  , 0.05, 0.1 , 0.15, 0.2 , 0.25, 0.3 , 0.35, 0.4 , 0.45, 0.5 ,\n",
              "       0.55, 0.6 , 0.65, 0.7 , 0.75, 0.8 , 0.85, 0.9 , 0.95, 1.  ])"
            ]
          },
          "metadata": {},
          "execution_count": 9
        }
      ],
      "source": [
        "import numpy as np\n",
        "np.linspace(0,1,21)"
      ]
    },
    {
      "cell_type": "code",
      "execution_count": 10,
      "id": "4dd4be95",
      "metadata": {
        "colab": {
          "base_uri": "https://localhost:8080/"
        },
        "id": "4dd4be95",
        "outputId": "e8a28c4e-bd63-4cf1-e7f2-bd474fb55ce7"
      },
      "outputs": [
        {
          "output_type": "stream",
          "name": "stdout",
          "text": [
            "[ 8. 36. 64.]\n"
          ]
        }
      ],
      "source": [
        "#Prog. Linspace\n",
        "import numpy as np\n",
        "a = np.linspace(8, 64, 3)\n",
        "print(a)"
      ]
    },
    {
      "cell_type": "code",
      "execution_count": 11,
      "id": "9d6e7659",
      "metadata": {
        "colab": {
          "base_uri": "https://localhost:8080/"
        },
        "id": "9d6e7659",
        "outputId": "1f5dce66-d9a7-4930-c6d3-23b5775688e4"
      },
      "outputs": [
        {
          "output_type": "stream",
          "name": "stdout",
          "text": [
            "[ 8.  19.2 30.4 41.6 52.8]\n"
          ]
        }
      ],
      "source": [
        "#Prog.\n",
        "import numpy as np\n",
        "b = np.linspace(8, 64, 5, endpoint=False)\n",
        "print(b)"
      ]
    },
    {
      "cell_type": "code",
      "execution_count": 12,
      "id": "83a9d295",
      "metadata": {
        "colab": {
          "base_uri": "https://localhost:8080/"
        },
        "id": "83a9d295",
        "outputId": "51f882c5-0424-44ee-bb01-3e3a79f8e56a"
      },
      "outputs": [
        {
          "output_type": "stream",
          "name": "stdout",
          "text": [
            "[0.         0.55555556 1.11111111 1.66666667 2.22222222 2.77777778\n",
            " 3.33333333 3.88888889 4.44444444 5.        ]\n"
          ]
        }
      ],
      "source": [
        "#Prog. Create a sequence of 10 values in range 0 to 5\n",
        "import numpy as np\n",
        "x = np.linspace(0, 5, 10)\n",
        "print(x)"
      ]
    },
    {
      "cell_type": "markdown",
      "id": "702f127b",
      "metadata": {
        "id": "702f127b"
      },
      "source": [
        "### Log-spaced\n",
        "It create an array by using the number that are evenly seprated a log scale"
      ]
    },
    {
      "cell_type": "code",
      "execution_count": 13,
      "id": "14d12b7d",
      "metadata": {
        "colab": {
          "base_uri": "https://localhost:8080/"
        },
        "id": "14d12b7d",
        "outputId": "f642cfca-1e71-48fb-8fe1-29bb09b86082"
      },
      "outputs": [
        {
          "output_type": "execute_result",
          "data": {
            "text/plain": [
              "array([1.e-02, 1.e-01, 1.e+00, 1.e+01, 1.e+02])"
            ]
          },
          "metadata": {},
          "execution_count": 13
        }
      ],
      "source": [
        "import numpy as np\n",
        "np.logspace(-2, 2, 5)"
      ]
    },
    {
      "cell_type": "code",
      "execution_count": 14,
      "id": "238e578a",
      "metadata": {
        "colab": {
          "base_uri": "https://localhost:8080/"
        },
        "id": "238e578a",
        "outputId": "78142a57-86df-4927-c019-294fac87c9b1"
      },
      "outputs": [
        {
          "output_type": "stream",
          "name": "stdout",
          "text": [
            "[1.00000000e+10 3.16227766e+12 1.00000000e+15 3.16227766e+17\n",
            " 1.00000000e+20]\n"
          ]
        }
      ],
      "source": [
        "#Prog.\n",
        "x = np.logspace(10, 20, 5)\n",
        "print(x)"
      ]
    },
    {
      "cell_type": "code",
      "execution_count": 15,
      "id": "b032c491",
      "metadata": {
        "colab": {
          "base_uri": "https://localhost:8080/"
        },
        "id": "b032c491",
        "outputId": "6c954c39-1ada-40d7-cbe5-61ec9ec1d632"
      },
      "outputs": [
        {
          "output_type": "stream",
          "name": "stdout",
          "text": [
            "[1.e+06 1.e+08 1.e+10]\n"
          ]
        }
      ],
      "source": [
        "#Prog.\n",
        "y = np.logspace(6, 10, 3)\n",
        "print(y)"
      ]
    },
    {
      "cell_type": "code",
      "execution_count": 16,
      "id": "9ad85fb4",
      "metadata": {
        "colab": {
          "base_uri": "https://localhost:8080/"
        },
        "id": "9ad85fb4",
        "outputId": "0945cc5f-ecf3-4056-e2b7-4c50ec733c0d"
      },
      "outputs": [
        {
          "output_type": "stream",
          "name": "stdout",
          "text": [
            "[1.024000e+03 3.276800e+04 1.048576e+06]\n"
          ]
        }
      ],
      "source": [
        "#Prog.\n",
        "k = np.logspace(10, 20, 3, base = 2)\n",
        "print(k)"
      ]
    },
    {
      "cell_type": "code",
      "execution_count": 17,
      "id": "40bad2a0",
      "metadata": {
        "colab": {
          "base_uri": "https://localhost:8080/"
        },
        "id": "40bad2a0",
        "outputId": "34295094-9582-4871-fdd7-05da13595e22"
      },
      "outputs": [
        {
          "output_type": "stream",
          "name": "stdout",
          "text": [
            "2\n"
          ]
        }
      ],
      "source": [
        "#Prog. Finding the dimension of an array\n",
        "\n",
        "import numpy as np\n",
        "\n",
        "k = np.array([[6, 8, 9],\n",
        "             [7, 12, 19],\n",
        "             [12, 16, 19]])\n",
        "\n",
        "#ndim: function is used to find the dimension of an array\n",
        "\n",
        "print(k.ndim)"
      ]
    },
    {
      "cell_type": "code",
      "execution_count": 18,
      "id": "f8354969",
      "metadata": {
        "colab": {
          "base_uri": "https://localhost:8080/"
        },
        "id": "f8354969",
        "outputId": "33e32ee7-a812-4ccf-eef4-eebf4192781f"
      },
      "outputs": [
        {
          "output_type": "stream",
          "name": "stdout",
          "text": [
            "1\n"
          ]
        }
      ],
      "source": [
        "#Prog.\n",
        "\n",
        "p = np.array([6, 7, 9])\n",
        "\n",
        "#dimension of an array p\n",
        "print(p.ndim)"
      ]
    },
    {
      "cell_type": "code",
      "execution_count": 19,
      "id": "64c301c1",
      "metadata": {
        "colab": {
          "base_uri": "https://localhost:8080/"
        },
        "id": "64c301c1",
        "outputId": "aa4c6a57-b227-4b4c-a27b-46ca3845bc2e"
      },
      "outputs": [
        {
          "output_type": "stream",
          "name": "stdout",
          "text": [
            "int64\n"
          ]
        }
      ],
      "source": [
        "#Prog. Find the data type of each item of an array\n",
        "\n",
        "import numpy as np\n",
        "\n",
        "t = np.array([[6, 7, 13],\n",
        "             [12, 78, 6]])\n",
        "\n",
        "# dtype: function is used to find the data type of an array item\n",
        "\n",
        "print(t.dtype)"
      ]
    },
    {
      "cell_type": "code",
      "execution_count": 20,
      "id": "64b26daf",
      "metadata": {
        "colab": {
          "base_uri": "https://localhost:8080/"
        },
        "id": "64b26daf",
        "outputId": "fe563768-6aa9-45e0-f409-f762c4eced12"
      },
      "outputs": [
        {
          "output_type": "stream",
          "name": "stdout",
          "text": [
            "float64\n"
          ]
        }
      ],
      "source": [
        "#Prog.\n",
        "\n",
        "s = np.array([6.9, 7.2, 9.5])\n",
        "\n",
        "#data type of an array item\n",
        "print(s.dtype)"
      ]
    },
    {
      "cell_type": "code",
      "execution_count": 21,
      "id": "98e6a326",
      "metadata": {
        "colab": {
          "base_uri": "https://localhost:8080/"
        },
        "id": "98e6a326",
        "outputId": "8fd9ee13-e25e-42f5-ded6-070e88331ee5"
      },
      "outputs": [
        {
          "output_type": "stream",
          "name": "stdout",
          "text": [
            "Sie of an array 8\n",
            "shape of an array: (2, 4)\n"
          ]
        }
      ],
      "source": [
        "#Prog. Shape & size of an array\n",
        "\n",
        "import numpy as np\n",
        "\n",
        "k = np.array([[13, 6, 89, 6], [6, 8, 47, -13]])\n",
        "\n",
        "# size: function is used to find the size of an array\n",
        "\n",
        "print(\"Sie of an array\", k.size)\n",
        "\n",
        "# shape: fuxtion is used to find the shape of an array\n",
        "\n",
        "print(\"shape of an array:\", k.shape)"
      ]
    },
    {
      "cell_type": "markdown",
      "id": "f885c324",
      "metadata": {
        "id": "f885c324"
      },
      "source": [
        "### Reshaping of an array object\n",
        "Numpy used reshape() function to change rows & columns in multi-dimensional array"
      ]
    },
    {
      "cell_type": "code",
      "execution_count": 22,
      "id": "a182186c",
      "metadata": {
        "colab": {
          "base_uri": "https://localhost:8080/"
        },
        "id": "a182186c",
        "outputId": "5fc13243-cbd0-4051-a9e0-d45d3831619c"
      },
      "outputs": [
        {
          "output_type": "stream",
          "name": "stdout",
          "text": [
            "Shape of an array (2, 3)\n",
            "(3, 2)\n"
          ]
        }
      ],
      "source": [
        "#Prog. Reshape of an array\n",
        "\n",
        "import numpy as np\n",
        "\n",
        "x = np.array([[14, 21, 28], [51, 19, 24]])\n",
        "\n",
        "#Shape of an array\n",
        "print(\"Shape of an array\", x.shape)\n",
        "\n",
        "#Reshape of an array\n",
        "k = x.reshape(3,2)\n",
        "\n",
        "print(k.shape)"
      ]
    },
    {
      "cell_type": "markdown",
      "id": "26e4a03b",
      "metadata": {
        "id": "26e4a03b"
      },
      "source": [
        "### Silicing in an array\n",
        "Silicing is the way to extract a range of elements from an array.\n",
        "There are three types of index/slicing \n",
        "1. Field Access\n",
        "2. Basic Silicing\n",
        "3. Advanced Silicing\n",
        "\n",
        "A python silice object is constructed by the given 'Start', 'Stop', 'Step' parameter to built-in function."
      ]
    },
    {
      "cell_type": "code",
      "execution_count": 23,
      "id": "60e796bf",
      "metadata": {
        "colab": {
          "base_uri": "https://localhost:8080/"
        },
        "id": "60e796bf",
        "outputId": "4ec4f486-0045-466e-faaf-4f0a63882ef2"
      },
      "outputs": [
        {
          "output_type": "stream",
          "name": "stdout",
          "text": [
            "Array: [0 1 2 3 4 5 6 7 8 9]\n",
            "Siliced array [2 4 6]\n"
          ]
        }
      ],
      "source": [
        "#Prog.\n",
        "import numpy as np\n",
        "\n",
        "x = np.arange(10)\n",
        "print(\"Array:\",x)\n",
        "\n",
        "# slicing\n",
        "s = slice(2, 7, 2)\n",
        "print(\"Siliced array\", x[s])"
      ]
    },
    {
      "cell_type": "code",
      "execution_count": 24,
      "id": "f3e436aa",
      "metadata": {
        "colab": {
          "base_uri": "https://localhost:8080/"
        },
        "id": "f3e436aa",
        "outputId": "fb647201-b73e-4c23-aa35-906a4fe2e4f1"
      },
      "outputs": [
        {
          "output_type": "stream",
          "name": "stdout",
          "text": [
            "[78 11]\n"
          ]
        }
      ],
      "source": [
        "#prog.\n",
        "\n",
        "s = np.array([61, 13, 97, 78, 45, 69, 11, 8, 12, 23, 56])\n",
        "\n",
        "#slicing\n",
        "\n",
        "k = slice(3, 8, 3)\n",
        "\n",
        "print(s[k])"
      ]
    },
    {
      "cell_type": "code",
      "execution_count": 25,
      "id": "8efbdc09",
      "metadata": {
        "colab": {
          "base_uri": "https://localhost:8080/"
        },
        "id": "8efbdc09",
        "outputId": "f6f0a719-511f-4bbe-e23f-00aa5f993710"
      },
      "outputs": [
        {
          "output_type": "stream",
          "name": "stdout",
          "text": [
            "7\n",
            "6\n",
            "5\n"
          ]
        }
      ],
      "source": [
        "#Prog.\n",
        "\n",
        "t = np.array([[6,7], [2, 6], [4,5]])\n",
        "#slicing\n",
        "print(t[0,1])\n",
        "\n",
        "print(t[1,1])\n",
        "\n",
        "print(t[2,1])"
      ]
    },
    {
      "cell_type": "code",
      "execution_count": 26,
      "id": "746ff623",
      "metadata": {
        "colab": {
          "base_uri": "https://localhost:8080/"
        },
        "id": "746ff623",
        "outputId": "dffdec18-e1ff-4543-d9e5-fd0635702eec"
      },
      "outputs": [
        {
          "output_type": "stream",
          "name": "stdout",
          "text": [
            "40\n",
            "25\n",
            "18\n"
          ]
        }
      ],
      "source": [
        "#Prog.\n",
        "\n",
        "x = np.array([[25, 68, 19],\n",
        "             [16, 12, 18],\n",
        "             [11, 19, 40]])\n",
        "\n",
        "print(x[2, 2])\n",
        "print(x[0, 0])\n",
        "print(x[1, 2])"
      ]
    },
    {
      "cell_type": "code",
      "execution_count": 27,
      "id": "5bfd4533",
      "metadata": {
        "colab": {
          "base_uri": "https://localhost:8080/"
        },
        "id": "5bfd4533",
        "outputId": "b9c67ce3-74f8-4b57-82d1-9e23a4aac4b1"
      },
      "outputs": [
        {
          "output_type": "stream",
          "name": "stdout",
          "text": [
            "[0 1 2 3 4 5 6 7 8 9]\n",
            "[2 4 6]\n"
          ]
        }
      ],
      "source": [
        "#Prog.\n",
        "\n",
        "x = np.arange(10)\n",
        "print(x)\n",
        "\n",
        "y = x[2:7:2]\n",
        "print(y)"
      ]
    },
    {
      "cell_type": "code",
      "execution_count": 28,
      "id": "ab5be25e",
      "metadata": {
        "colab": {
          "base_uri": "https://localhost:8080/"
        },
        "id": "ab5be25e",
        "outputId": "298da553-fa84-457e-aea4-be3583302307"
      },
      "outputs": [
        {
          "output_type": "stream",
          "name": "stdout",
          "text": [
            "[0 1 2 3 4 5 6 7 8 9]\n"
          ]
        }
      ],
      "source": [
        "#Prog.\n",
        "x = np.arange(10)\n",
        "print(x)"
      ]
    },
    {
      "cell_type": "code",
      "execution_count": 29,
      "id": "8a78614a",
      "metadata": {
        "colab": {
          "base_uri": "https://localhost:8080/"
        },
        "id": "8a78614a",
        "outputId": "23bdb341-9736-44dd-bd07-990d6e2bdeb6"
      },
      "outputs": [
        {
          "output_type": "stream",
          "name": "stdout",
          "text": [
            "[2 3 4 5 6 7 8 9]\n"
          ]
        }
      ],
      "source": [
        "print(x[2:])"
      ]
    },
    {
      "cell_type": "code",
      "execution_count": 30,
      "id": "9f1b9b96",
      "metadata": {
        "colab": {
          "base_uri": "https://localhost:8080/"
        },
        "id": "9f1b9b96",
        "outputId": "c161c11b-7bbd-4605-da8f-491cac8efd0e"
      },
      "outputs": [
        {
          "output_type": "stream",
          "name": "stdout",
          "text": [
            "[3 4]\n"
          ]
        }
      ],
      "source": [
        "print(x[3:5])"
      ]
    },
    {
      "cell_type": "code",
      "execution_count": 31,
      "id": "9590a9fc",
      "metadata": {
        "colab": {
          "base_uri": "https://localhost:8080/"
        },
        "id": "9590a9fc",
        "outputId": "56ee93fe-5ca6-4c48-ba39-369f8bc70f05"
      },
      "outputs": [
        {
          "output_type": "stream",
          "name": "stdout",
          "text": [
            "[3]\n"
          ]
        }
      ],
      "source": [
        "print(x[3:5:2])"
      ]
    },
    {
      "cell_type": "code",
      "execution_count": 32,
      "id": "40506d51",
      "metadata": {
        "colab": {
          "base_uri": "https://localhost:8080/"
        },
        "id": "40506d51",
        "outputId": "0b7e8128-2f97-452f-ac91-91baa64adadb"
      },
      "outputs": [
        {
          "output_type": "stream",
          "name": "stdout",
          "text": [
            "[0 1]\n"
          ]
        }
      ],
      "source": [
        "print(x[:2])"
      ]
    },
    {
      "cell_type": "code",
      "execution_count": 33,
      "id": "a2a2cc61",
      "metadata": {
        "colab": {
          "base_uri": "https://localhost:8080/"
        },
        "id": "a2a2cc61",
        "outputId": "3e8a1b73-5b79-4cb3-8a65-b541ca6a4919"
      },
      "outputs": [
        {
          "output_type": "stream",
          "name": "stdout",
          "text": [
            "[0 1 2 3 4 5 6]\n"
          ]
        }
      ],
      "source": [
        "print(x[:-3])"
      ]
    },
    {
      "cell_type": "code",
      "execution_count": 34,
      "id": "0f8ed084",
      "metadata": {
        "colab": {
          "base_uri": "https://localhost:8080/"
        },
        "id": "0f8ed084",
        "outputId": "2374f70f-ec77-4c98-dc5f-532f2a2ac8db"
      },
      "outputs": [
        {
          "output_type": "stream",
          "name": "stdout",
          "text": [
            "[7 8 9]\n"
          ]
        }
      ],
      "source": [
        "print(x[-3:])"
      ]
    },
    {
      "cell_type": "markdown",
      "id": "3062c2b9",
      "metadata": {
        "id": "3062c2b9"
      },
      "source": [
        "### Maximum, minimum, Sum elements of an array"
      ]
    },
    {
      "cell_type": "code",
      "execution_count": 35,
      "id": "cf1801ea",
      "metadata": {
        "colab": {
          "base_uri": "https://localhost:8080/"
        },
        "id": "cf1801ea",
        "outputId": "e2705b2b-9ad9-4688-deb0-7066fad11b33"
      },
      "outputs": [
        {
          "output_type": "stream",
          "name": "stdout",
          "text": [
            "maximum element 61\n",
            "minimum element: 0\n",
            "Sum of an array element: 138\n"
          ]
        }
      ],
      "source": [
        "#Prog.\n",
        "import numpy as np\n",
        "\n",
        "a = np.array([6, 7, 8, 9, 13, 25, 0, 3, 6, 61])\n",
        "\n",
        "#max(): function is used to find the maximum element of an array\n",
        "print(\"maximum element\", a.max())\n",
        "\n",
        "#min(): function is used to find the minimum element of an array\n",
        "print(\"minimum element:\", a.min())\n",
        "\n",
        "#sum(): function is used to calculate the sum of elements of an array\n",
        "print(\"Sum of an array element:\", a.sum())"
      ]
    },
    {
      "cell_type": "markdown",
      "id": "adc4926b",
      "metadata": {
        "id": "adc4926b"
      },
      "source": [
        "### Array axis\n",
        "axis = 0 - represent column\n",
        "axis = 1 - represent column"
      ]
    },
    {
      "cell_type": "code",
      "execution_count": 36,
      "id": "24b306dc",
      "metadata": {
        "colab": {
          "base_uri": "https://localhost:8080/"
        },
        "id": "24b306dc",
        "outputId": "a67e1e71-a381-4ad2-9b76-d16211d18af7"
      },
      "outputs": [
        {
          "output_type": "stream",
          "name": "stdout",
          "text": [
            "[ 6  6 83]\n",
            "[ 4  3 81]\n",
            "[83 81]\n",
            "[4 3]\n",
            "[93 90]\n",
            "[ 10   9 164]\n"
          ]
        }
      ],
      "source": [
        "#Prog.\n",
        "\n",
        "import numpy as np\n",
        "\n",
        "a = np.array([[4,6,83], [6, 3, 81]])\n",
        "\n",
        "#find the maximum element from the column\n",
        "b = a.max(axis = 0)\n",
        "print(b)\n",
        "\n",
        "#find the minimum element from the column\n",
        "c = a.min(axis = 0)\n",
        "print(c)\n",
        "\n",
        "#find the maximum element from the all rows\n",
        "d = a.max(axis = 1)\n",
        "print(d)\n",
        "\n",
        "#find the minimum element from the all rows\n",
        "e = a.min(axis = 1)\n",
        "print(e)\n",
        "\n",
        "#sum of all rows\n",
        "f = a.sum(axis = 1)\n",
        "print(f)\n",
        "\n",
        "#sum of all columns\n",
        "g = a.sum(axis = 0)\n",
        "print(g)"
      ]
    },
    {
      "cell_type": "markdown",
      "id": "983aa40e",
      "metadata": {
        "id": "983aa40e"
      },
      "source": [
        "### Square root and Standard Deviation of an array\n",
        "sqrt() - square root\n",
        "std() - standard deviation"
      ]
    },
    {
      "cell_type": "code",
      "execution_count": 37,
      "id": "f577ad0b",
      "metadata": {
        "colab": {
          "base_uri": "https://localhost:8080/"
        },
        "id": "f577ad0b",
        "outputId": "10691978-e263-4266-fdff-c5d4aa644d1b"
      },
      "outputs": [
        {
          "output_type": "stream",
          "name": "stdout",
          "text": [
            "[[1.         1.41421356 5.47722558]\n",
            " [3.16227766 3.87298335 2.        ]]\n",
            "\n",
            " 10.044346115546242\n"
          ]
        }
      ],
      "source": [
        "#Prog. Finding the square root and standard deviation of an element of an array\n",
        "\n",
        "import numpy as np\n",
        "\n",
        "a = np.array([[1, 2, 30],\n",
        "             [10, 15, 4]])\n",
        "\n",
        "#sqrt()\n",
        "b = np.sqrt(a)\n",
        "print(b)\n",
        "\n",
        "#std()\n",
        "c = np.std(a)\n",
        "print(\"\\n\",c)"
      ]
    },
    {
      "cell_type": "code",
      "execution_count": 38,
      "id": "b7ba5db9",
      "metadata": {
        "colab": {
          "base_uri": "https://localhost:8080/"
        },
        "id": "b7ba5db9",
        "outputId": "941ab637-c1a3-4729-8e62-51f941aea8da"
      },
      "outputs": [
        {
          "output_type": "stream",
          "name": "stdout",
          "text": [
            "[[ 4  6 14]\n",
            " [16 21 29]\n",
            " [15 36 14]]\n"
          ]
        }
      ],
      "source": [
        "#Prog. Array to bigin with 3 X 3 matrix\n",
        "\n",
        "import numpy as np\n",
        "\n",
        "a = np.array([[4, 6, 14],\n",
        "             [16, 21, 29],\n",
        "             [15, 36, 14]])\n",
        "\n",
        "print(a)"
      ]
    },
    {
      "cell_type": "code",
      "execution_count": 39,
      "id": "ab8f8d15",
      "metadata": {
        "colab": {
          "base_uri": "https://localhost:8080/"
        },
        "id": "ab8f8d15",
        "outputId": "92de6659-11bd-48fd-f3f9-0694b8ab8a92"
      },
      "outputs": [
        {
          "output_type": "stream",
          "name": "stdout",
          "text": [
            "2\n"
          ]
        }
      ],
      "source": [
        "print(a.ndim)"
      ]
    },
    {
      "cell_type": "code",
      "execution_count": 40,
      "id": "5e885367",
      "metadata": {
        "colab": {
          "base_uri": "https://localhost:8080/"
        },
        "id": "5e885367",
        "outputId": "aa7cb937-6198-47a0-8aee-8812a1b48e6d"
      },
      "outputs": [
        {
          "output_type": "stream",
          "name": "stdout",
          "text": [
            "[ 6 21 36]\n"
          ]
        }
      ],
      "source": [
        "# print the elements fron 2nd column\n",
        "print(a[..., 1])"
      ]
    },
    {
      "cell_type": "code",
      "execution_count": 41,
      "id": "81078d9f",
      "metadata": {
        "colab": {
          "base_uri": "https://localhost:8080/"
        },
        "id": "81078d9f",
        "outputId": "60a32d72-2236-4ccc-bf55-5bec4d8369f0"
      },
      "outputs": [
        {
          "output_type": "stream",
          "name": "stdout",
          "text": [
            "[14 29 14]\n"
          ]
        }
      ],
      "source": [
        "#print the element from 3rd column\n",
        "print(a[..., 2])"
      ]
    },
    {
      "cell_type": "code",
      "execution_count": 42,
      "id": "1650827f",
      "metadata": {
        "colab": {
          "base_uri": "https://localhost:8080/"
        },
        "id": "1650827f",
        "outputId": "8d0303bf-b422-4ce4-e461-78302736c5b0"
      },
      "outputs": [
        {
          "output_type": "stream",
          "name": "stdout",
          "text": [
            "[ 4  6 14]\n"
          ]
        }
      ],
      "source": [
        "#print the element from first row\n",
        "print(a[0,...])"
      ]
    },
    {
      "cell_type": "markdown",
      "id": "0c2289c0",
      "metadata": {
        "id": "0c2289c0"
      },
      "source": [
        "### Arithmetic Operations on Array"
      ]
    },
    {
      "cell_type": "code",
      "execution_count": 43,
      "id": "be2164c9",
      "metadata": {
        "colab": {
          "base_uri": "https://localhost:8080/"
        },
        "id": "be2164c9",
        "outputId": "3e100fd4-a595-45e6-a1d5-cb26590679b4"
      },
      "outputs": [
        {
          "output_type": "stream",
          "name": "stdout",
          "text": [
            "[[17 16 35]\n",
            " [16 29 29]]\n"
          ]
        }
      ],
      "source": [
        "#Prog.\n",
        "\n",
        "import numpy as np\n",
        "\n",
        "a = np.array([[1, 2, 3], [10, 6, 8]])\n",
        "b = np.array([[16, 14, 32], [6, 23, 21]])\n",
        "\n",
        "#addition\n",
        "c = a + b\n",
        "print(c)"
      ]
    },
    {
      "cell_type": "code",
      "execution_count": 44,
      "id": "3819b80f",
      "metadata": {
        "colab": {
          "base_uri": "https://localhost:8080/"
        },
        "id": "3819b80f",
        "outputId": "21ba18f8-9263-493d-eb0c-49926924f303"
      },
      "outputs": [
        {
          "output_type": "stream",
          "name": "stdout",
          "text": [
            "[[-15 -12 -29]\n",
            " [  4 -17 -13]]\n"
          ]
        }
      ],
      "source": [
        "#substraction\n",
        "d = a-b\n",
        "print(d)"
      ]
    },
    {
      "cell_type": "code",
      "execution_count": 45,
      "id": "ac937cfe",
      "metadata": {
        "colab": {
          "base_uri": "https://localhost:8080/"
        },
        "id": "ac937cfe",
        "outputId": "232cc1a8-6674-4cef-93ec-f25cb78a6ed1"
      },
      "outputs": [
        {
          "output_type": "stream",
          "name": "stdout",
          "text": [
            "[[ 16  28  96]\n",
            " [ 60 138 168]]\n"
          ]
        }
      ],
      "source": [
        "#multiplication\n",
        "e= b*a\n",
        "print(e)"
      ]
    },
    {
      "cell_type": "code",
      "execution_count": 46,
      "id": "09fd81e2",
      "metadata": {
        "colab": {
          "base_uri": "https://localhost:8080/"
        },
        "id": "09fd81e2",
        "outputId": "5cf7dd60-4563-4504-b60a-5171cfffe80f"
      },
      "outputs": [
        {
          "output_type": "stream",
          "name": "stdout",
          "text": [
            "[[1 2 3]\n",
            " [4 6 8]]\n"
          ]
        }
      ],
      "source": [
        "#divide\n",
        "f = a % b\n",
        "print(f)"
      ]
    },
    {
      "cell_type": "code",
      "execution_count": 47,
      "id": "411a28f6",
      "metadata": {
        "colab": {
          "base_uri": "https://localhost:8080/"
        },
        "id": "411a28f6",
        "outputId": "08c742ec-35d9-49c8-a229-ae2c7fb4beb8"
      },
      "outputs": [
        {
          "output_type": "stream",
          "name": "stdout",
          "text": [
            "[4 6 9]\n"
          ]
        }
      ],
      "source": [
        "#Prog.\n",
        "a = np.array([4, 6, 9])\n",
        "print(a)"
      ]
    },
    {
      "cell_type": "code",
      "execution_count": 48,
      "id": "46b7c367",
      "metadata": {
        "colab": {
          "base_uri": "https://localhost:8080/"
        },
        "id": "46b7c367",
        "outputId": "095c3ffb-78da-4b48-c99a-8af4dd9b8bd9"
      },
      "outputs": [
        {
          "output_type": "stream",
          "name": "stdout",
          "text": [
            "8\n"
          ]
        }
      ],
      "source": [
        "b = 8\n",
        "print(b)"
      ]
    },
    {
      "cell_type": "code",
      "execution_count": 49,
      "id": "5855429d",
      "metadata": {
        "colab": {
          "base_uri": "https://localhost:8080/"
        },
        "id": "5855429d",
        "outputId": "fa97e50a-49ea-4a44-b2f3-9c9de90d51dd"
      },
      "outputs": [
        {
          "output_type": "stream",
          "name": "stdout",
          "text": [
            "[12 14 17]\n"
          ]
        }
      ],
      "source": [
        "c = a + b\n",
        "print(c)"
      ]
    },
    {
      "cell_type": "code",
      "execution_count": 50,
      "id": "e673cb40",
      "metadata": {
        "colab": {
          "base_uri": "https://localhost:8080/"
        },
        "id": "e673cb40",
        "outputId": "3c2e997d-d7e2-40c5-cde7-b3c81fc77f96"
      },
      "outputs": [
        {
          "output_type": "execute_result",
          "data": {
            "text/plain": [
              "array([0, 1, 2, 3])"
            ]
          },
          "metadata": {},
          "execution_count": 50
        }
      ],
      "source": [
        "#Prog. Array operator\n",
        "\n",
        "import numpy as np\n",
        "x = np.arange(4)\n",
        "x"
      ]
    },
    {
      "cell_type": "code",
      "execution_count": 51,
      "id": "741f35b4",
      "metadata": {
        "colab": {
          "base_uri": "https://localhost:8080/"
        },
        "id": "741f35b4",
        "outputId": "e4a2e44c-8f1b-4b96-cbf8-b89fc224147f"
      },
      "outputs": [
        {
          "output_type": "execute_result",
          "data": {
            "text/plain": [
              "array([10, 11, 12, 13])"
            ]
          },
          "metadata": {},
          "execution_count": 51
        }
      ],
      "source": [
        "#scalar adition is element wise\n",
        "x + 10"
      ]
    },
    {
      "cell_type": "code",
      "execution_count": 52,
      "id": "76bdf543",
      "metadata": {
        "colab": {
          "base_uri": "https://localhost:8080/"
        },
        "id": "76bdf543",
        "outputId": "191e06fc-15dc-41cc-8b8a-a8638ab07918"
      },
      "outputs": [
        {
          "output_type": "execute_result",
          "data": {
            "text/plain": [
              "array([0, 2, 4, 6])"
            ]
          },
          "metadata": {},
          "execution_count": 52
        }
      ],
      "source": [
        "#scalar multiplication element wise\n",
        "x*2"
      ]
    },
    {
      "cell_type": "code",
      "execution_count": 53,
      "id": "72692183",
      "metadata": {
        "colab": {
          "base_uri": "https://localhost:8080/"
        },
        "id": "72692183",
        "outputId": "8b13b309-d552-48b1-ab9d-d7fa341211e8"
      },
      "outputs": [
        {
          "output_type": "execute_result",
          "data": {
            "text/plain": [
              "array([0, 2, 4, 6])"
            ]
          },
          "metadata": {},
          "execution_count": 53
        }
      ],
      "source": [
        "#Array addition element wise\n",
        "x + x"
      ]
    },
    {
      "cell_type": "markdown",
      "id": "fef27abc",
      "metadata": {
        "id": "fef27abc"
      },
      "source": [
        "### dot product (or generally matrix multiplication)\n",
        "It is done with function"
      ]
    },
    {
      "cell_type": "code",
      "execution_count": 54,
      "id": "be2fadbf",
      "metadata": {
        "colab": {
          "base_uri": "https://localhost:8080/"
        },
        "id": "be2fadbf",
        "outputId": "f68a08ed-5ed2-4955-a959-208beea498c1"
      },
      "outputs": [
        {
          "output_type": "execute_result",
          "data": {
            "text/plain": [
              "18"
            ]
          },
          "metadata": {},
          "execution_count": 54
        }
      ],
      "source": [
        "#Prog.\n",
        "import numpy as np\n",
        "a = np.dot(6, 3)\n",
        "a"
      ]
    },
    {
      "cell_type": "code",
      "execution_count": 55,
      "id": "be91187a",
      "metadata": {
        "colab": {
          "base_uri": "https://localhost:8080/"
        },
        "id": "be91187a",
        "outputId": "a9e28dfa-5802-4fc7-b113-69286ba298cd"
      },
      "outputs": [
        {
          "output_type": "execute_result",
          "data": {
            "text/plain": [
              "(-34+0j)"
            ]
          },
          "metadata": {},
          "execution_count": 55
        }
      ],
      "source": [
        "#Prog\n",
        "a = np.dot([2j, 3j],[5j, 8j])\n",
        "a"
      ]
    },
    {
      "cell_type": "code",
      "execution_count": 56,
      "id": "a5a95f41",
      "metadata": {
        "colab": {
          "base_uri": "https://localhost:8080/"
        },
        "id": "a5a95f41",
        "outputId": "1e157935-3454-444c-84fd-5e462cd2a192"
      },
      "outputs": [
        {
          "output_type": "execute_result",
          "data": {
            "text/plain": [
              "array([[224, 276],\n",
              "       [336, 414]])"
            ]
          },
          "metadata": {},
          "execution_count": 56
        }
      ],
      "source": [
        "#Prog.\n",
        "a = np.array([[6, 8], [9, 12]])\n",
        "b = np.array([[12, 18], [19, 21]])\n",
        "c = np.dot(a,b)\n",
        "c"
      ]
    },
    {
      "cell_type": "markdown",
      "id": "4f1c65ad",
      "metadata": {
        "id": "4f1c65ad"
      },
      "source": [
        "### Concatenation\n",
        "1. It a Numpy function used to combine multiple arrays with same shape.\n",
        "2. Stacking of arrays can be done both horizontally and vertically wrt axis\n",
        "3. axis = 0 is default\n",
        "4. Syntax: np.concatenate((a1, a2,...), axis)"
      ]
    },
    {
      "cell_type": "code",
      "execution_count": 57,
      "id": "f69e9397",
      "metadata": {
        "colab": {
          "base_uri": "https://localhost:8080/"
        },
        "id": "f69e9397",
        "outputId": "370c01af-0d64-420a-ae02-5f0e695f3bf9"
      },
      "outputs": [
        {
          "output_type": "execute_result",
          "data": {
            "text/plain": [
              "array([[1, 6],\n",
              "       [7, 8],\n",
              "       [7, 9]])"
            ]
          },
          "metadata": {},
          "execution_count": 57
        }
      ],
      "source": [
        "#Prog.\n",
        "import numpy as np\n",
        "a = np.array([[1, 6], [7, 8]])\n",
        "b = np.array([[7, 9]])\n",
        "\n",
        "z = np.concatenate((a,b))\n",
        "z"
      ]
    },
    {
      "cell_type": "code",
      "execution_count": 58,
      "id": "84eb623a",
      "metadata": {
        "colab": {
          "base_uri": "https://localhost:8080/"
        },
        "id": "84eb623a",
        "outputId": "70a29675-53f6-4062-aac6-3ee2876ea5f2"
      },
      "outputs": [
        {
          "output_type": "execute_result",
          "data": {
            "text/plain": [
              "array([[1, 6],\n",
              "       [7, 8],\n",
              "       [7, 9]])"
            ]
          },
          "metadata": {},
          "execution_count": 58
        }
      ],
      "source": [
        "#Prog. concatenate wrt axis = 0\n",
        "\n",
        "z =np.concatenate((a, b), axis = 0)\n",
        "z"
      ]
    },
    {
      "cell_type": "code",
      "execution_count": 59,
      "id": "54eff074",
      "metadata": {
        "colab": {
          "base_uri": "https://localhost:8080/"
        },
        "id": "54eff074",
        "outputId": "d9ce5885-454e-4bf0-a11f-a1bac3184594"
      },
      "outputs": [
        {
          "output_type": "execute_result",
          "data": {
            "text/plain": [
              "array([[1, 6, 7],\n",
              "       [7, 8, 9]])"
            ]
          },
          "metadata": {},
          "execution_count": 59
        }
      ],
      "source": [
        "#Prog. cocatenate wrt axis = 1\n",
        "\n",
        "z = np.concatenate((a, b.T), axis = 1)\n",
        "z"
      ]
    },
    {
      "cell_type": "code",
      "execution_count": 60,
      "id": "6de9dfcd",
      "metadata": {
        "colab": {
          "base_uri": "https://localhost:8080/"
        },
        "id": "6de9dfcd",
        "outputId": "e3f67236-06f4-4a97-a20b-df44861ccb67"
      },
      "outputs": [
        {
          "output_type": "execute_result",
          "data": {
            "text/plain": [
              "array([1, 6, 7, 8, 7, 9])"
            ]
          },
          "metadata": {},
          "execution_count": 60
        }
      ],
      "source": [
        "#Prog. concatenate wrt axis = None\n",
        "z = np.concatenate((a, b), axis = None)\n",
        "z"
      ]
    },
    {
      "cell_type": "code",
      "execution_count": 61,
      "id": "4565707d",
      "metadata": {
        "colab": {
          "base_uri": "https://localhost:8080/"
        },
        "id": "4565707d",
        "outputId": "884d9e7e-b0b2-40f0-9739-07fcde9207aa"
      },
      "outputs": [
        {
          "output_type": "execute_result",
          "data": {
            "text/plain": [
              "masked_array(data=[0, 1, 2],\n",
              "             mask=False,\n",
              "       fill_value=999999)"
            ]
          },
          "metadata": {},
          "execution_count": 61
        }
      ],
      "source": [
        "# Masked Array\n",
        "import numpy as np\n",
        "x = np.ma.arange(3)\n",
        "x"
      ]
    },
    {
      "cell_type": "code",
      "execution_count": 62,
      "id": "2e80585b",
      "metadata": {
        "colab": {
          "base_uri": "https://localhost:8080/"
        },
        "id": "2e80585b",
        "outputId": "792b67c5-a080-41fa-f5a0-446114b84ac9"
      },
      "outputs": [
        {
          "output_type": "execute_result",
          "data": {
            "text/plain": [
              "array([3, 4, 5])"
            ]
          },
          "metadata": {},
          "execution_count": 62
        }
      ],
      "source": [
        "y = np.arange(3,6)\n",
        "y"
      ]
    },
    {
      "cell_type": "code",
      "execution_count": 63,
      "id": "6b659aae",
      "metadata": {
        "colab": {
          "base_uri": "https://localhost:8080/"
        },
        "id": "6b659aae",
        "outputId": "c7458643-fddb-44c3-a50a-0d83a30e4fdb"
      },
      "outputs": [
        {
          "output_type": "execute_result",
          "data": {
            "text/plain": [
              "masked_array(data=[0, --, 2],\n",
              "             mask=[False,  True, False],\n",
              "       fill_value=999999)"
            ]
          },
          "metadata": {},
          "execution_count": 63
        }
      ],
      "source": [
        "x[1] = np.ma.masked\n",
        "x"
      ]
    },
    {
      "cell_type": "code",
      "execution_count": 64,
      "id": "4a938920",
      "metadata": {
        "id": "4a938920"
      },
      "outputs": [],
      "source": [
        "z1 = np.concatenate([x, y])"
      ]
    },
    {
      "cell_type": "code",
      "execution_count": 65,
      "id": "b1014da9",
      "metadata": {
        "colab": {
          "base_uri": "https://localhost:8080/"
        },
        "id": "b1014da9",
        "outputId": "39c652af-8019-42c8-b93d-2cc3bce35d85"
      },
      "outputs": [
        {
          "output_type": "execute_result",
          "data": {
            "text/plain": [
              "masked_array(data=[0, 1, 2, 3, 4, 5],\n",
              "             mask=False,\n",
              "       fill_value=999999)"
            ]
          },
          "metadata": {},
          "execution_count": 65
        }
      ],
      "source": [
        "z1"
      ]
    },
    {
      "cell_type": "code",
      "execution_count": 66,
      "id": "ddfcaaa3",
      "metadata": {
        "id": "ddfcaaa3"
      },
      "outputs": [],
      "source": [
        "z2 = np.ma.concatenate([x,y])"
      ]
    },
    {
      "cell_type": "code",
      "execution_count": 67,
      "id": "4f2c12d6",
      "metadata": {
        "colab": {
          "base_uri": "https://localhost:8080/"
        },
        "id": "4f2c12d6",
        "outputId": "98fd3d45-bc13-4d98-fcfe-462b864f891a"
      },
      "outputs": [
        {
          "output_type": "execute_result",
          "data": {
            "text/plain": [
              "masked_array(data=[0, --, 2, 3, 4, 5],\n",
              "             mask=[False,  True, False, False, False, False],\n",
              "       fill_value=999999)"
            ]
          },
          "metadata": {},
          "execution_count": 67
        }
      ],
      "source": [
        "z2"
      ]
    },
    {
      "cell_type": "markdown",
      "id": "3e10a677",
      "metadata": {
        "id": "3e10a677"
      },
      "source": [
        "### Append\n",
        "1. add or append new value into existing array.\n",
        "2. The function add the new value at the end of the array\n",
        "3. Syntax: np.append(arr, values, axis=None)"
      ]
    },
    {
      "cell_type": "code",
      "execution_count": 68,
      "id": "0df4d37d",
      "metadata": {
        "colab": {
          "base_uri": "https://localhost:8080/"
        },
        "id": "0df4d37d",
        "outputId": "4acdf39a-ce09-486f-cd8b-94ef39f3c1b8"
      },
      "outputs": [
        {
          "output_type": "execute_result",
          "data": {
            "text/plain": [
              "array([10, 20, 30, 30, 40, 50, 60, 70, 80, 11, 21, 33, 14, 16, 38, 23, 29,\n",
              "       18])"
            ]
          },
          "metadata": {},
          "execution_count": 68
        }
      ],
      "source": [
        "#Prog.\n",
        "import numpy as np\n",
        "a = np.array([[10, 20, 30],\n",
        "             [30, 40, 50],\n",
        "             [60, 70, 80]])\n",
        "b = np.array([[11, 21, 33],\n",
        "             [14, 16, 38],\n",
        "             [23, 29, 18]])\n",
        "\n",
        "# append\n",
        "\n",
        "c = np.append(a,b)\n",
        "c"
      ]
    },
    {
      "cell_type": "code",
      "execution_count": 69,
      "id": "e6e40d69",
      "metadata": {
        "colab": {
          "base_uri": "https://localhost:8080/"
        },
        "id": "e6e40d69",
        "outputId": "097ab6a9-c903-4525-d819-a9b864d4c190"
      },
      "outputs": [
        {
          "output_type": "execute_result",
          "data": {
            "text/plain": [
              "array([[10, 20, 30],\n",
              "       [30, 40, 50],\n",
              "       [60, 70, 80],\n",
              "       [11, 21, 33],\n",
              "       [14, 16, 38],\n",
              "       [23, 29, 18]])"
            ]
          },
          "metadata": {},
          "execution_count": 69
        }
      ],
      "source": [
        "#append wrt axis = 0\n",
        "c = np.append(a,b, axis = 0)\n",
        "c"
      ]
    },
    {
      "cell_type": "code",
      "execution_count": 70,
      "id": "bac6aa19",
      "metadata": {
        "colab": {
          "base_uri": "https://localhost:8080/"
        },
        "id": "bac6aa19",
        "outputId": "e74b7d2d-d6f8-4164-c984-0e46fee7c9b7"
      },
      "outputs": [
        {
          "output_type": "execute_result",
          "data": {
            "text/plain": [
              "array([[10, 20, 30, 11, 21, 33],\n",
              "       [30, 40, 50, 14, 16, 38],\n",
              "       [60, 70, 80, 23, 29, 18]])"
            ]
          },
          "metadata": {},
          "execution_count": 70
        }
      ],
      "source": [
        "#append wrt axis = 1\n",
        "c = np.append(a,b, axis=1)\n",
        "c"
      ]
    },
    {
      "cell_type": "markdown",
      "id": "8808b9f4",
      "metadata": {
        "id": "8808b9f4"
      },
      "source": [
        "## Random \n",
        "It is used to generate random numbers.\n",
        "1. Simple random data:\n",
        "         np.random.rand(d0, d1,...dn)\n",
        " This function is used to generate random number or values in given shape\n",
        "\n",
        "2. np.random.randn(d0, d1, d2,....dn)\n",
        "         This function of random module returns a sample from the 'standard normal' distribution.\n",
        "         \n",
        "3. np.random.randint(low[, high, size, dtype)\n",
        "           It generate random integers from inclusive(low) to inclusive (high)"
      ]
    },
    {
      "cell_type": "code",
      "execution_count": 71,
      "id": "36b56cbc",
      "metadata": {
        "colab": {
          "base_uri": "https://localhost:8080/"
        },
        "id": "36b56cbc",
        "outputId": "01ead5c9-b9d8-4186-deb6-ac5cac6c719b"
      },
      "outputs": [
        {
          "output_type": "execute_result",
          "data": {
            "text/plain": [
              "array([[0.18594265, 0.05897964, 0.60637689],\n",
              "       [0.67010223, 0.15555275, 0.65830304],\n",
              "       [0.35071491, 0.73665471, 0.75986245],\n",
              "       [0.75905915, 0.50327367, 0.24889071],\n",
              "       [0.57307249, 0.4994285 , 0.5052205 ]])"
            ]
          },
          "metadata": {},
          "execution_count": 71
        }
      ],
      "source": [
        "#Prog. \n",
        "import numpy as np\n",
        "x =np.random.rand(5, 3)\n",
        "x"
      ]
    },
    {
      "cell_type": "code",
      "execution_count": 72,
      "id": "e4212df3",
      "metadata": {
        "colab": {
          "base_uri": "https://localhost:8080/"
        },
        "id": "e4212df3",
        "outputId": "06188648-7433-46a2-a0d2-1fe925a4f3ab"
      },
      "outputs": [
        {
          "output_type": "execute_result",
          "data": {
            "text/plain": [
              "array([[-2.02571503, -0.77971308],\n",
              "       [-1.24818959,  1.04448967]])"
            ]
          },
          "metadata": {},
          "execution_count": 72
        }
      ],
      "source": [
        "#Prog.\n",
        "y = np.random.randn(2,2)\n",
        "y"
      ]
    },
    {
      "cell_type": "code",
      "execution_count": 73,
      "id": "704339d4",
      "metadata": {
        "colab": {
          "base_uri": "https://localhost:8080/"
        },
        "id": "704339d4",
        "outputId": "a6768603-6242-44bf-b38d-dfe45278df08"
      },
      "outputs": [
        {
          "output_type": "execute_result",
          "data": {
            "text/plain": [
              "-0.5445245211423408"
            ]
          },
          "metadata": {},
          "execution_count": 73
        }
      ],
      "source": [
        "b = np.random.randn()\n",
        "b"
      ]
    },
    {
      "cell_type": "code",
      "execution_count": 74,
      "id": "c45f37ec",
      "metadata": {
        "colab": {
          "base_uri": "https://localhost:8080/"
        },
        "id": "c45f37ec",
        "outputId": "af2a9f0a-4f94-4e76-83ed-ad0d0dfd6f49"
      },
      "outputs": [
        {
          "output_type": "execute_result",
          "data": {
            "text/plain": [
              "array([0, 1, 1, 0, 2])"
            ]
          },
          "metadata": {},
          "execution_count": 74
        }
      ],
      "source": [
        "#Prog.\n",
        "a = np.random.randint(3, size=5)\n",
        "a"
      ]
    },
    {
      "cell_type": "markdown",
      "id": "2e1676c8",
      "metadata": {
        "id": "2e1676c8"
      },
      "source": [
        "### NumPy Zeros\n",
        "1. It generate an array containing zeros\n",
        "2. Syntax:\n",
        "          np.zeros(size, dtype, order)\n",
        "3. bydefault dtype is float\n",
        "4. order is c-major or f-major"
      ]
    },
    {
      "cell_type": "code",
      "execution_count": 75,
      "id": "2dcbe449",
      "metadata": {
        "colab": {
          "base_uri": "https://localhost:8080/"
        },
        "id": "2dcbe449",
        "outputId": "1da12cfc-77d5-44e8-8c5a-77d7c457159d"
      },
      "outputs": [
        {
          "output_type": "execute_result",
          "data": {
            "text/plain": [
              "array([0., 0., 0., 0., 0., 0.])"
            ]
          },
          "metadata": {},
          "execution_count": 75
        }
      ],
      "source": [
        "import numpy as np\n",
        "a = np.zeros(6)\n",
        "a"
      ]
    },
    {
      "cell_type": "code",
      "execution_count": 76,
      "id": "552dc017",
      "metadata": {
        "colab": {
          "base_uri": "https://localhost:8080/"
        },
        "id": "552dc017",
        "outputId": "736c60b7-441b-42ac-f392-b3c98242c43a"
      },
      "outputs": [
        {
          "output_type": "execute_result",
          "data": {
            "text/plain": [
              "array([0, 0, 0, 0, 0, 0])"
            ]
          },
          "metadata": {},
          "execution_count": 76
        }
      ],
      "source": [
        "import numpy as np\n",
        "a = np.zeros((6), dtype=int)\n",
        "a"
      ]
    },
    {
      "cell_type": "code",
      "execution_count": 77,
      "id": "82f76ff1",
      "metadata": {
        "colab": {
          "base_uri": "https://localhost:8080/"
        },
        "id": "82f76ff1",
        "outputId": "46dc8b78-e913-4aa5-d7b4-a449b7c25b61"
      },
      "outputs": [
        {
          "output_type": "execute_result",
          "data": {
            "text/plain": [
              "array([[0, 0, 0],\n",
              "       [0, 0, 0],\n",
              "       [0, 0, 0],\n",
              "       [0, 0, 0],\n",
              "       [0, 0, 0],\n",
              "       [0, 0, 0]])"
            ]
          },
          "metadata": {},
          "execution_count": 77
        }
      ],
      "source": [
        "a =np.zeros((6, 3), dtype=int)\n",
        "a"
      ]
    },
    {
      "cell_type": "code",
      "execution_count": 78,
      "id": "e0098003",
      "metadata": {
        "colab": {
          "base_uri": "https://localhost:8080/"
        },
        "id": "e0098003",
        "outputId": "4c075f2b-ffa8-40b1-cef2-f416ff904237"
      },
      "outputs": [
        {
          "output_type": "execute_result",
          "data": {
            "text/plain": [
              "array([[0, 0, 0, 0],\n",
              "       [0, 0, 0, 0],\n",
              "       [0, 0, 0, 0]])"
            ]
          },
          "metadata": {},
          "execution_count": 78
        }
      ],
      "source": [
        "import numpy as np\n",
        "x = (3, 4)\n",
        "y = np.zeros(x, dtype=int)\n",
        "y"
      ]
    },
    {
      "cell_type": "code",
      "execution_count": 79,
      "id": "c239cf72",
      "metadata": {
        "colab": {
          "base_uri": "https://localhost:8080/"
        },
        "id": "c239cf72",
        "outputId": "4af4dbb9-6e26-45b9-8c9c-195cca1435f1"
      },
      "outputs": [
        {
          "output_type": "execute_result",
          "data": {
            "text/plain": [
              "array([1., 1., 1.])"
            ]
          },
          "metadata": {},
          "execution_count": 79
        }
      ],
      "source": [
        "#NumPy Once\n",
        "\n",
        "import numpy as np\n",
        "x = np.ones(3)\n",
        "x"
      ]
    },
    {
      "cell_type": "code",
      "execution_count": 80,
      "id": "e1a96a3a",
      "metadata": {
        "id": "e1a96a3a"
      },
      "outputs": [],
      "source": [
        "x = np.ones(6, dtype=int)"
      ]
    },
    {
      "cell_type": "code",
      "execution_count": 81,
      "id": "606a4dd6",
      "metadata": {
        "colab": {
          "base_uri": "https://localhost:8080/"
        },
        "id": "606a4dd6",
        "outputId": "9788e662-1716-42ca-f10e-924c4abef7fc"
      },
      "outputs": [
        {
          "output_type": "execute_result",
          "data": {
            "text/plain": [
              "array([1, 1, 1, 1, 1, 1])"
            ]
          },
          "metadata": {},
          "execution_count": 81
        }
      ],
      "source": [
        "x"
      ]
    },
    {
      "cell_type": "code",
      "execution_count": 89,
      "id": "7ed8a098",
      "metadata": {
        "colab": {
          "base_uri": "https://localhost:8080/"
        },
        "id": "7ed8a098",
        "outputId": "b5b7b32f-04a8-4948-fd60-f478da55e621"
      },
      "outputs": [
        {
          "output_type": "stream",
          "name": "stdout",
          "text": [
            "[6, 9, 8, 7]\n",
            "<class 'numpy.ndarray'>\n",
            "[6 9 8 7]\n"
          ]
        }
      ],
      "source": [
        "#Creaing Numpy Array fron an existing data\n",
        "\n",
        "#np.asarry()  - It convert into numpy array from the existing data like list or touples.\n",
        "# Syntax:\n",
        "    # np.asarray(sequence, dtype=None, order=\"None\")\n",
        "\n",
        "import numpy as np\n",
        "#create an numpy array from list\n",
        "x1 =[6, 9, 8, 7]   #list\n",
        "print(x1)\n",
        "x2 = np.asarray(x1)\n",
        "print(type(x2))\n",
        "print(x2)"
      ]
    },
    {
      "cell_type": "code",
      "source": [
        "#creating numpy array using touple\n",
        "t = (2, 7, 9, 8, 12)\n",
        "x = np.asarray(t)\n",
        "print(t)\n",
        "print(x)\n",
        "print(type(x))"
      ],
      "metadata": {
        "colab": {
          "base_uri": "https://localhost:8080/"
        },
        "id": "g6yEOFfhWvnH",
        "outputId": "abf72d1d-31c9-4c04-b69f-c97cfb3a0109"
      },
      "id": "g6yEOFfhWvnH",
      "execution_count": 91,
      "outputs": [
        {
          "output_type": "stream",
          "name": "stdout",
          "text": [
            "(2, 7, 9, 8, 12)\n",
            "[ 2  7  9  8 12]\n",
            "<class 'numpy.ndarray'>\n"
          ]
        }
      ]
    },
    {
      "cell_type": "code",
      "source": [
        "#create an numpy array from more than one list\n",
        "l = [[6, 8, 9, 12, 9], [78, 23, 89]]\n",
        "print(l)\n",
        "a = np.asarray(l)\n",
        "print(a)\n",
        "print(type(a))"
      ],
      "metadata": {
        "colab": {
          "base_uri": "https://localhost:8080/"
        },
        "id": "Vt69_6h8XzK_",
        "outputId": "1b3c53c2-5a6f-4b03-9966-fb9b1abbcb12"
      },
      "id": "Vt69_6h8XzK_",
      "execution_count": 94,
      "outputs": [
        {
          "output_type": "stream",
          "name": "stdout",
          "text": [
            "[[6, 8, 9, 12, 9], [78, 23, 89]]\n",
            "[list([6, 8, 9, 12, 9]) list([78, 23, 89])]\n",
            "<class 'numpy.ndarray'>\n"
          ]
        },
        {
          "output_type": "stream",
          "name": "stderr",
          "text": [
            "/usr/local/lib/python3.7/dist-packages/ipykernel_launcher.py:4: VisibleDeprecationWarning: Creating an ndarray from ragged nested sequences (which is a list-or-tuple of lists-or-tuples-or ndarrays with different lengths or shapes) is deprecated. If you meant to do this, you must specify 'dtype=object' when creating the ndarray.\n",
            "  after removing the cwd from sys.path.\n"
          ]
        }
      ]
    },
    {
      "cell_type": "code",
      "source": [
        ""
      ],
      "metadata": {
        "id": "WJkVWqSRYO_A"
      },
      "id": "WJkVWqSRYO_A",
      "execution_count": null,
      "outputs": []
    }
  ],
  "metadata": {
    "kernelspec": {
      "display_name": "Python 3",
      "language": "python",
      "name": "python3"
    },
    "language_info": {
      "codemirror_mode": {
        "name": "ipython",
        "version": 3
      },
      "file_extension": ".py",
      "mimetype": "text/x-python",
      "name": "python",
      "nbconvert_exporter": "python",
      "pygments_lexer": "ipython3",
      "version": "3.8.8"
    },
    "colab": {
      "name": "NumPy_Arrays.ipynb",
      "provenance": [],
      "collapsed_sections": [],
      "include_colab_link": true
    }
  },
  "nbformat": 4,
  "nbformat_minor": 5
}