{
  "nbformat": 4,
  "nbformat_minor": 0,
  "metadata": {
    "colab": {
      "name": "file_IO.ipynb",
      "provenance": [],
      "collapsed_sections": [],
      "authorship_tag": "ABX9TyP8T+Dmph2cQVEU7RyWwB7x"
    },
    "kernelspec": {
      "name": "python3",
      "display_name": "Python 3"
    }
  },
  "cells": [
    {
      "cell_type": "code",
      "metadata": {
        "id": "mhWG8aDyTJWH",
        "colab_type": "code",
        "colab": {
          "base_uri": "https://localhost:8080/",
          "height": 34
        },
        "outputId": "a30eecde-3d95-4630-85b6-d242267c95a0"
      },
      "source": [
        "# Printing the screen\n",
        "print(\"Python is a really good language!\")"
      ],
      "execution_count": 2,
      "outputs": [
        {
          "output_type": "stream",
          "text": [
            "Python is a really good language!\n"
          ],
          "name": "stdout"
        }
      ]
    },
    {
      "cell_type": "code",
      "metadata": {
        "id": "sECI_jp4UWkf",
        "colab_type": "code",
        "colab": {}
      },
      "source": [
        "# Reading keyboard input\n",
        "# python provides two in-built function to read the data from the standard keyboard 1. raw_input, 2. input\n",
        "\n",
        "#raw_input: this function reads one line from the keyboard and returens it as a string\n",
        "\n",
        "print(\"what is your name?\")\n",
        "name = raw_input()\n",
        "print(\"Hello %s!\" % name)\n"
      ],
      "execution_count": 0,
      "outputs": []
    },
    {
      "cell_type": "code",
      "metadata": {
        "id": "9LkowULrXYEI",
        "colab_type": "code",
        "colab": {
          "base_uri": "https://localhost:8080/",
          "height": 185
        },
        "outputId": "61a3757b-23f8-48d3-e7d7-1cbab7efa8f7"
      },
      "source": [
        "x = raw_input(\"Enter your age!\")\n",
        "print(\"Your age is: \", x)"
      ],
      "execution_count": 8,
      "outputs": [
        {
          "output_type": "error",
          "ename": "NameError",
          "evalue": "ignored",
          "traceback": [
            "\u001b[0;31m---------------------------------------------------------------------------\u001b[0m",
            "\u001b[0;31mNameError\u001b[0m                                 Traceback (most recent call last)",
            "\u001b[0;32m<ipython-input-8-d590845c731f>\u001b[0m in \u001b[0;36m<module>\u001b[0;34m()\u001b[0m\n\u001b[0;32m----> 1\u001b[0;31m \u001b[0mx\u001b[0m \u001b[0;34m=\u001b[0m \u001b[0mraw_input\u001b[0m\u001b[0;34m(\u001b[0m\u001b[0;34m\"Enter your age!\"\u001b[0m\u001b[0;34m)\u001b[0m\u001b[0;34m\u001b[0m\u001b[0;34m\u001b[0m\u001b[0m\n\u001b[0m\u001b[1;32m      2\u001b[0m \u001b[0mprint\u001b[0m\u001b[0;34m(\u001b[0m\u001b[0;34m\"Your age is: \"\u001b[0m\u001b[0;34m,\u001b[0m \u001b[0mx\u001b[0m\u001b[0;34m)\u001b[0m\u001b[0;34m\u001b[0m\u001b[0;34m\u001b[0m\u001b[0m\n",
            "\u001b[0;31mNameError\u001b[0m: name 'raw_input' is not defined"
          ]
        }
      ]
    },
    {
      "cell_type": "code",
      "metadata": {
        "id": "dpe__732X8Uc",
        "colab_type": "code",
        "colab": {
          "base_uri": "https://localhost:8080/",
          "height": 52
        },
        "outputId": "4b47d829-7ea0-4a1e-f4d1-cb21d37f0b5b"
      },
      "source": [
        "# input: this function is equavalent to raw_input except that it assumes the input is valid python expression and returens the evaluated result to you\n",
        "\n",
        "str = input(\"Enter the age\")\n",
        "print(\"your age is: \", str)"
      ],
      "execution_count": 9,
      "outputs": [
        {
          "output_type": "stream",
          "text": [
            "Enter the age25\n",
            "your age is:  25\n"
          ],
          "name": "stdout"
        }
      ]
    },
    {
      "cell_type": "code",
      "metadata": {
        "id": "XjCBpq7TcnZv",
        "colab_type": "code",
        "colab": {
          "base_uri": "https://localhost:8080/",
          "height": 70
        },
        "outputId": "e7ecb891-269c-484b-f35b-7e4261d3b010"
      },
      "source": [
        "x = input(\"Enter the value of x: \")\n",
        "y = input(\"Enter the value of y: \")\n",
        "if (x > y):\n",
        "  print(\"The value of x is greater than y\")\n",
        "else:\n",
        "  print(\"The value of y is big\")"
      ],
      "execution_count": 15,
      "outputs": [
        {
          "output_type": "stream",
          "text": [
            "Enter the value of x: 5\n",
            "Enter the value of y: 6\n",
            "The value of y is big\n"
          ],
          "name": "stdout"
        }
      ]
    },
    {
      "cell_type": "code",
      "metadata": {
        "id": "SC1caR8cgdjU",
        "colab_type": "code",
        "colab": {
          "base_uri": "https://localhost:8080/",
          "height": 52
        },
        "outputId": "79269abd-e1ed-46e7-d250-55177d518fd6"
      },
      "source": [
        "a = int(input(\"enter the first value: \"))\n",
        "b = a\n",
        "c = (a + b)\n",
        "if (c > 35):\n",
        "  print(\"Welcome!\")\n",
        "else:\n",
        "  print(\"Better luck nxt tyme!\")"
      ],
      "execution_count": 22,
      "outputs": [
        {
          "output_type": "stream",
          "text": [
            "enter the first value: 14\n",
            "Better luck nxt tyme!\n"
          ],
          "name": "stdout"
        }
      ]
    },
    {
      "cell_type": "markdown",
      "metadata": {
        "id": "_dmKxULgq__9",
        "colab_type": "text"
      },
      "source": [
        "## **Opening & closing file**\n",
        "The open function: before u can read/write a file, u hv to open it, using python in-built open() function. This function creates a file object.\n",
        "\n",
        "***Syntax:***\n",
        "  file object = open(file name [, access mode][, buffering])\n",
        "\n",
        "  **modes**\n",
        "  r   --- opens a file for reading only\n",
        "  rb  --- opens a file for reading only in binary format\n",
        "  r+  --- opens a file for both reading writing.\n",
        "  rb+\n",
        "  w----Writing\n",
        "  wb\n",
        "  w+\n",
        "  a----appending\n"
      ]
    },
    {
      "cell_type": "code",
      "metadata": {
        "id": "KvIOJikMpP8_",
        "colab_type": "code",
        "colab": {
          "base_uri": "https://localhost:8080/",
          "height": 70
        },
        "outputId": "54dbcb33-7c5f-44f6-c54b-5866acbcc72e"
      },
      "source": [
        "# open a file\n",
        "\n",
        "fo = open(\"abc.txt\", \"wb\")\n",
        "print(\"name of the file: \", fo.name)\n",
        "print(\"closed or not: \", fo.closed)\n",
        "print(\"Opening mode: \", fo.mode)\n",
        "#print(\"softspace flag: \", fo.softspace)"
      ],
      "execution_count": 29,
      "outputs": [
        {
          "output_type": "stream",
          "text": [
            "name of the file:  abc.txt\n",
            "closed or not:  False\n",
            "Opening mode:  wb\n"
          ],
          "name": "stdout"
        }
      ]
    },
    {
      "cell_type": "code",
      "metadata": {
        "id": "o85wzRffud6b",
        "colab_type": "code",
        "colab": {
          "base_uri": "https://localhost:8080/",
          "height": 34
        },
        "outputId": "5765748c-9cc9-44fb-ebf7-f1229b128c90"
      },
      "source": [
        "# close a file\n",
        "\n",
        "#open a file\n",
        "fo = open(\"abc.txt\", \"rb+\")\n",
        "print(\"Name of the file :\", fo.name)\n",
        "\n",
        "#closed open file\n",
        "fo.close()"
      ],
      "execution_count": 35,
      "outputs": [
        {
          "output_type": "stream",
          "text": [
            "Name of the file : abc.txt\n"
          ],
          "name": "stdout"
        }
      ]
    },
    {
      "cell_type": "code",
      "metadata": {
        "id": "7TdeznqYVn2I",
        "colab_type": "code",
        "colab": {}
      },
      "source": [
        "# Writing to a files\n",
        "\n",
        "fo = open(\"xxx8160.txt\", \"w\")\n",
        "fo.write(\"Hey Mugees Ahmad\\n Account no: 016401554140 \\n Mobile No: 9891998160 \\n OTP: 8160\")\n",
        "\n",
        "fo.close()"
      ],
      "execution_count": 0,
      "outputs": []
    },
    {
      "cell_type": "code",
      "metadata": {
        "id": "hwyYIR9JxJXI",
        "colab_type": "code",
        "colab": {
          "base_uri": "https://localhost:8080/",
          "height": 34
        },
        "outputId": "7ffd1e0c-7a20-4236-93c2-0695e62c6103"
      },
      "source": [
        "# reading a file\n",
        "\n",
        "#open a file\n",
        "fo = open(\"xxx8160.txt\", \"r+\")\n",
        "str = fo.read(10)\n",
        "print(\"Read string is : \", str)\n",
        "\n",
        "# close the file\n",
        "fo.close()"
      ],
      "execution_count": 38,
      "outputs": [
        {
          "output_type": "stream",
          "text": [
            "Read string is :  Hey Mugees\n"
          ],
          "name": "stdout"
        }
      ]
    },
    {
      "cell_type": "code",
      "metadata": {
        "id": "Bt_mXZw7zUV1",
        "colab_type": "code",
        "colab": {
          "base_uri": "https://localhost:8080/",
          "height": 70
        },
        "outputId": "b709c815-377c-4353-aff0-2241e8727d7a"
      },
      "source": [
        "# file position: ftell() method is used to tell the current position within file\n",
        "# seek() method change the current position offset arguments indecate the no of bytes is moved.\n",
        "#    If from is set to 0, it mean use the beging of the file.\n",
        "\n",
        "# open a file\n",
        "fo = open(\"xxx8160.txt\", \"r+\")\n",
        "str = fo.read(10)\n",
        "print(\"Read the string is: \",str)\n",
        "\n",
        "# check current position\n",
        "position = fo.tell()\n",
        "print(\"current file position: \", possition)\n",
        "\n",
        "# Reposition at the begining once again\n",
        "position = fo.seek(0, 0)\n",
        "str = fo.read(4)\n",
        "print(\"Again read string is: \", str)\n",
        "\n",
        "# closed the file\n",
        "fo.close()"
      ],
      "execution_count": 44,
      "outputs": [
        {
          "output_type": "stream",
          "text": [
            "Read the string is:  Hey Mugees\n",
            "current file possition:  0\n",
            "Again read string is:  Hey \n"
          ],
          "name": "stdout"
        }
      ]
    },
    {
      "cell_type": "code",
      "metadata": {
        "id": "89fDfqP_3kbq",
        "colab_type": "code",
        "colab": {}
      },
      "source": [
        "# Renaming and deleting files: python os module provide a methods that helps to file-processing operations such as renaming and deleting files\n",
        "\n",
        "# rename() : this method take two arguments, the current file name, and the new file name\n",
        "\n",
        "import os\n",
        "# rename a file\n",
        "os.rename(\"abc.txt\", \"test2.txt\")"
      ],
      "execution_count": 0,
      "outputs": []
    },
    {
      "cell_type": "code",
      "metadata": {
        "id": "ivoFqvky5Ofi",
        "colab_type": "code",
        "colab": {}
      },
      "source": [
        "# delete a file\n",
        "#remove() method is used to delete a file\n",
        "\n",
        "import os\n",
        "# delete a file\n",
        "os.remove(\"test2.txt\")"
      ],
      "execution_count": 0,
      "outputs": []
    },
    {
      "cell_type": "markdown",
      "metadata": {
        "id": "KRTAyuNE7g_5",
        "colab_type": "text"
      },
      "source": [
        "**Directories**\n"
      ]
    },
    {
      "cell_type": "code",
      "metadata": {
        "id": "VGhErZE07nCR",
        "colab_type": "code",
        "colab": {}
      },
      "source": [
        "# mkdir() : to create a new directory in current directory\n",
        "import os\n",
        "os.mkdir(\"test2\")"
      ],
      "execution_count": 0,
      "outputs": []
    },
    {
      "cell_type": "code",
      "metadata": {
        "id": "66VWUDT48kZy",
        "colab_type": "code",
        "colab": {
          "base_uri": "https://localhost:8080/",
          "height": 202
        },
        "outputId": "caad48d7-db49-4fbb-eb9e-257e92a763be"
      },
      "source": [
        "# chdir() : to change the current directory\n",
        "\n",
        "import os\n",
        "os.chdir(\"C:/Users/mugee/Desktop/Python/Input/directory\")"
      ],
      "execution_count": 59,
      "outputs": [
        {
          "output_type": "error",
          "ename": "FileNotFoundError",
          "evalue": "ignored",
          "traceback": [
            "\u001b[0;31m---------------------------------------------------------------------------\u001b[0m",
            "\u001b[0;31mFileNotFoundError\u001b[0m                         Traceback (most recent call last)",
            "\u001b[0;32m<ipython-input-59-e879db03ed2d>\u001b[0m in \u001b[0;36m<module>\u001b[0;34m()\u001b[0m\n\u001b[1;32m      1\u001b[0m \u001b[0;34m\u001b[0m\u001b[0m\n\u001b[1;32m      2\u001b[0m \u001b[0;32mimport\u001b[0m \u001b[0mos\u001b[0m\u001b[0;34m\u001b[0m\u001b[0;34m\u001b[0m\u001b[0m\n\u001b[0;32m----> 3\u001b[0;31m \u001b[0mos\u001b[0m\u001b[0;34m.\u001b[0m\u001b[0mchdir\u001b[0m\u001b[0;34m(\u001b[0m\u001b[0;34m\"C:/Users/mugee/Desktop/Python/Input/directory\"\u001b[0m\u001b[0;34m)\u001b[0m\u001b[0;34m\u001b[0m\u001b[0;34m\u001b[0m\u001b[0m\n\u001b[0m",
            "\u001b[0;31mFileNotFoundError\u001b[0m: [Errno 2] No such file or directory: 'C:/Users/mugee/Desktop/Python/Input/directory'"
          ]
        }
      ]
    },
    {
      "cell_type": "code",
      "metadata": {
        "id": "AtBvsIQU-iz5",
        "colab_type": "code",
        "colab": {}
      },
      "source": [
        ""
      ],
      "execution_count": 0,
      "outputs": []
    }
  ]
}